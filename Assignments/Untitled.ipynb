{
 "cells": [
  {
   "cell_type": "code",
   "execution_count": 18,
   "id": "f620e423",
   "metadata": {},
   "outputs": [
    {
     "name": "stdout",
     "output_type": "stream",
     "text": [
      "29\n"
     ]
    }
   ],
   "source": [
    "my_str = 'Peter Piper Picked A Peck Of Pickled Peppers.'\n",
    "sub_str = 'Pickl'\n",
    "for i in range(len(my_str)-len(sub_str)+1):\n",
    "        if sub_str==my_str[i:i+len(sub_str)]:\n",
    "            print(i)\n",
    "            "
   ]
  },
  {
   "cell_type": "code",
   "execution_count": 3,
   "id": "585bfecb",
   "metadata": {},
   "outputs": [
    {
     "name": "stdout",
     "output_type": "stream",
     "text": [
      "[[91, 'xyz', 'abc', 99], [91, 'xyz', 'abc', 99], [91, 'xyz', 'abc', 99], [91, 'xyz', 'abc', 99]]\n"
     ]
    }
   ],
   "source": [
    "\n",
    "import pickle\n",
    "lst=[[91,'xyz','abc',99],[91,'xyz','abc',99],[91,'xyz','abc',99],[91,'xyz','abc',99]]\n",
    "with open('picklefile','wb') as fh:\n",
    "    pickle.dump(lst,fh)\n",
    "with open('picklefile','rb') as fh:\n",
    "    data=pickle.load(fh)\n",
    "    print(data)"
   ]
  },
  {
   "cell_type": "code",
   "execution_count": 6,
   "id": "275727be",
   "metadata": {},
   "outputs": [
    {
     "name": "stdout",
     "output_type": "stream",
     "text": [
      "Enter the the text(when done enter DONE):[91,'xyz','abc',99]\n",
      "Enter the the text(when done enter DONE):[91,'xyz','abc',99]\n",
      "Enter the the text(when done enter DONE):[91,'xyz','abc',99]\n",
      "Enter the the text(when done enter DONE):[91,'xyz','abc',99]\n",
      "Enter the the text(when done enter DONE):'DONE'\n"
     ]
    }
   ],
   "source": [
    "fh = open('Book.dat','wb')\n",
    "text =''\n",
    "lst=[]\n",
    "while text != 'DONE':\n",
    "    text = eval(input(\"Enter the the text(when done enter DONE):\"))\n",
    "    if text != 'DONE':\n",
    "        lst.append(text)\n",
    "pickle.dump(lst,fh)\n",
    "fh.close()"
   ]
  },
  {
   "cell_type": "code",
   "execution_count": 9,
   "id": "30453a3d",
   "metadata": {},
   "outputs": [
    {
     "name": "stdout",
     "output_type": "stream",
     "text": [
      "[[91, 'xyz', 'abc', 99], [91, 'xyz', 'abc', 99], [91, 'xyz', 'abc', 99], [91, 'xyz', 'abc', 99]]\n",
      "[91, 'xyz', 'abc', 99]\n",
      "[91, 'xyz', 'abc', 99]\n",
      "[91, 'xyz', 'abc', 99]\n",
      "[91, 'xyz', 'abc', 99]\n"
     ]
    }
   ],
   "source": [
    "with open('picklefile','rb') as fh:\n",
    "    data=pickle.load(fh)\n",
    "    print(data)\n",
    "for i in data:\n",
    "    print(i)"
   ]
  },
  {
   "cell_type": "code",
   "execution_count": 15,
   "id": "de0341b6",
   "metadata": {},
   "outputs": [
    {
     "name": "stdout",
     "output_type": "stream",
     "text": [
      "enter the input:[91, 'xyz', 'abc', 99]\n",
      "[[91, 'xyz', 'abc', 99], [91, 'xyz', 'abc', 99], [91, 'xyz', 'abc', 99], [91, 'xyz', 'abc', 99]]\n"
     ]
    }
   ],
   "source": [
    "with open('picklefile','ab') as fh:\n",
    "    text=eval(input(\"enter the input:\"))\n",
    "    pickle.dump(text,fh)\n",
    "with open('picklefile','rb') as fh:\n",
    "    data=pickle.load(fh)\n",
    "    print(data)"
   ]
  },
  {
   "cell_type": "code",
   "execution_count": 3,
   "id": "fc2bf764",
   "metadata": {},
   "outputs": [
    {
     "data": {
      "text/plain": [
       "array([ 1.        ,  3.22222222,  5.44444444,  7.66666667,  9.88888889,\n",
       "       12.11111111, 14.33333333, 16.55555556, 18.77777778, 21.        ])"
      ]
     },
     "execution_count": 3,
     "metadata": {},
     "output_type": "execute_result"
    }
   ],
   "source": [
    "import numpy as np\n",
    "np.linspace(1,21,10)"
   ]
  },
  {
   "cell_type": "code",
   "execution_count": 23,
   "id": "88ccb2e4",
   "metadata": {},
   "outputs": [
    {
     "name": "stdout",
     "output_type": "stream",
     "text": [
      "1\n",
      "-1.0\n",
      "True\n",
      "4\n"
     ]
    }
   ],
   "source": [
    "import re\n",
    "N=int(input())\n",
    "for i in range(0,N):\n",
    "    str1=input()\n",
    "    patt=r'[0-9\\+\\-\\.]{1,2}[.][0-9]+'\n",
    "    mat=re.match(patt,str1)\n",
    "    if mat==None:\n",
    "        print(False)\n",
    "    elif len(mat.group())==len(str1):\n",
    "        print(True)\n",
    "    else:\n",
    "        print(False)\n",
    "print(len(mat.group()))"
   ]
  },
  {
   "cell_type": "code",
   "execution_count": null,
   "id": "2bb62b76",
   "metadata": {},
   "outputs": [],
   "source": []
  },
  {
   "cell_type": "code",
   "execution_count": null,
   "id": "f086382e",
   "metadata": {},
   "outputs": [],
   "source": []
  }
 ],
 "metadata": {
  "kernelspec": {
   "display_name": "Python 3 (ipykernel)",
   "language": "python",
   "name": "python3"
  },
  "language_info": {
   "codemirror_mode": {
    "name": "ipython",
    "version": 3
   },
   "file_extension": ".py",
   "mimetype": "text/x-python",
   "name": "python",
   "nbconvert_exporter": "python",
   "pygments_lexer": "ipython3",
   "version": "3.9.12"
  }
 },
 "nbformat": 4,
 "nbformat_minor": 5
}
