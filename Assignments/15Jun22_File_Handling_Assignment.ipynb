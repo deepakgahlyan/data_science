{
 "cells": [
  {
   "cell_type": "code",
   "execution_count": 85,
   "metadata": {},
   "outputs": [
    {
     "name": "stdout",
     "output_type": "stream",
     "text": [
      "Twinkle, twinkle, little star,\n",
      "\n",
      "How I wonder what you are.\n",
      "\n",
      "Up above the world so high,\n",
      "\n",
      "Like a diamond in the sky.\n",
      "\n"
     ]
    }
   ],
   "source": [
    "# Write a function in python to read the content from \n",
    "# a text file \"poem.txt\" line by line and display the same on screen.\n",
    "\n",
    "# fh=open(\"poem.txt\",'rt') # one way \n",
    "# for i in fh:\n",
    "#     print(i)\n",
    "# fh.close()\n",
    "\n",
    "fh=open(\"poem.txt\",'rt') # second way \n",
    "flag=True\n",
    "while flag==True:\n",
    "    a=fh.readline()\n",
    "    if a!='':\n",
    "        print(a)\n",
    "    else:\n",
    "        flag=False\n",
    "fh.close()"
   ]
  },
  {
   "cell_type": "code",
   "execution_count": 26,
   "metadata": {},
   "outputs": [
    {
     "name": "stdout",
     "output_type": "stream",
     "text": [
      "3\n"
     ]
    }
   ],
   "source": [
    "# Write a function in python to count the number of lines \n",
    "# from a text file \"story.txt\" which is not starting with an alphabet \"T\". \n",
    "\n",
    "# Example: If the file \"story.txt\" contains the following lines: A boy is playing there.\n",
    "# There is a playground.\n",
    "# An aeroplane is in the sky.\n",
    "# The sky is pink.\n",
    "# Alphabets and numbers are allowed in the password.\n",
    "# The function should display the output as 3\n",
    "fh=open(\"story.txt\",'rt')\n",
    "count=0\n",
    "for i in fh:\n",
    "    if i[0]=='T':\n",
    "        continue\n",
    "    else:\n",
    "        count+=1\n",
    "print(count)\n",
    "fh.close()\n"
   ]
  },
  {
   "cell_type": "code",
   "execution_count": 36,
   "metadata": {},
   "outputs": [
    {
     "name": "stdout",
     "output_type": "stream",
     "text": [
      "27\n"
     ]
    }
   ],
   "source": [
    "# Write a function in Python to count and display the total number of words in a text file.\n",
    "fh=open(\"story.txt\",'rt')\n",
    "count=0\n",
    "for i in fh:\n",
    "    for j in i.split():\n",
    "        count+=1\n",
    "print(count)\n",
    "fh.close()\n"
   ]
  },
  {
   "cell_type": "code",
   "execution_count": 56,
   "metadata": {},
   "outputs": [
    {
     "name": "stdout",
     "output_type": "stream",
     "text": [
      "total number of the are 5\n"
     ]
    }
   ],
   "source": [
    "# Write a function in Python to read lines from a text file \"notes.txt\". \n",
    "# Your function should find and display the occurrence of the word \"the\".\n",
    "\n",
    "# For example: If the content of the file is:\n",
    "# \"India is the fastest-growing economy. India is looking for more investments around the globe. The whole world is looking at India as a great market. Most of the Indians can foresee the heights that India is capable of reaching.\"\n",
    "\n",
    "# The output should be 5.\n",
    "def read_the(fh):\n",
    "    count=0\n",
    "    for i in fh:\n",
    "        for j in i.split():\n",
    "            if j=='the'or j=='The':\n",
    "                count+=1\n",
    "    return count\n",
    "fh=open('notes.txt','rt')\n",
    "res=read_the(fh)\n",
    "print(f'total number of the are {res}')\n",
    "fh.close()"
   ]
  },
  {
   "cell_type": "code",
   "execution_count": 55,
   "metadata": {},
   "outputs": [
    {
     "name": "stdout",
     "output_type": "stream",
     "text": [
      "17\n"
     ]
    }
   ],
   "source": [
    "# Write a function display_words() in python to read lines from a text file \"story.txt\", \n",
    "# and display those words, which are less than 4 characters.\n",
    "def display_words(fh):\n",
    "    count=0\n",
    "    for i in fh:\n",
    "        for j in i.split():\n",
    "            if len(j)<4:\n",
    "                count+=1\n",
    "            elif len(j)==4 and j[-1]=='.':\n",
    "                 count+=1\n",
    "    return count\n",
    "fh=open(\"story.txt\",'rt')\n",
    "res=display_words(fh)\n",
    "print(res)\n",
    "fh.close()"
   ]
  },
  {
   "cell_type": "code",
   "execution_count": 59,
   "metadata": {},
   "outputs": [
    {
     "name": "stdout",
     "output_type": "stream",
     "text": [
      "9\n"
     ]
    }
   ],
   "source": [
    "# Write a function in Python to count the words \"this\" and \"these\" present in a text file \"article.txt\". \n",
    "# [Note that the words \"this\" and \"these\" are complete words] \n",
    "def this_these(fh):\n",
    "    count=0\n",
    "    for i in fh:\n",
    "        for j in i.split():\n",
    "            if j =='this'or j=='these':\n",
    "                count+=1\n",
    "            elif j =='This'or j=='These':\n",
    "                count+=1\n",
    "            if j =='this.'or j=='these.':\n",
    "                count+=1\n",
    "    return count\n",
    "fh=open(\"article.txt\",'rt')\n",
    "res=this_these(fh)\n",
    "print(res)\n",
    "fh.close()"
   ]
  },
  {
   "cell_type": "code",
   "execution_count": 66,
   "metadata": {},
   "outputs": [
    {
     "name": "stdout",
     "output_type": "stream",
     "text": [
      "7\n"
     ]
    }
   ],
   "source": [
    "# Write a function in Python to count words in a text file those are ending with alphabet \"e\"\n",
    "def countend_e(fh):\n",
    "    count=0\n",
    "    for i in fh:\n",
    "        for j in i.split():\n",
    "            if j[-1]=='e':\n",
    "                count+=1\n",
    "            elif j[-1]=='.' and j[-2]=='e':\n",
    "                count+=1\n",
    "    return count\n",
    "fh=open(\"story.txt\",'rt')\n",
    "res=countend_e(fh)\n",
    "print(res)\n",
    "fh.close()"
   ]
  },
  {
   "cell_type": "code",
   "execution_count": 1,
   "metadata": {},
   "outputs": [
    {
     "name": "stdout",
     "output_type": "stream",
     "text": [
      "1\n"
     ]
    }
   ],
   "source": [
    "# Write a function in Python to count uppercase character in a text file.\n",
    "def uppercase(fh):\n",
    "    count=0\n",
    "    for i in fh:\n",
    "        for j in i.split():\n",
    "            if j.isupper():\n",
    "                count+=1\n",
    "    return count\n",
    "fh=open(\"story.txt\",'rt')\n",
    "res=uppercase(fh)\n",
    "print(res)\n",
    "fh.close()"
   ]
  },
  {
   "cell_type": "code",
   "execution_count": 76,
   "metadata": {},
   "outputs": [
    {
     "name": "stdout",
     "output_type": "stream",
     "text": [
      "T#H#E# #W#O#R#L#D# #I#S# #R#O#U#N#D#\n"
     ]
    }
   ],
   "source": [
    "# A text file named \"matter.txt\" contains some text, which needs to be displayed such that \n",
    "# every next character is separated by a symbol \"#\". \n",
    "# Write a function definition for hash_display() in Python that would display \n",
    "# the entire content of the file matter.txt in the desired format.\n",
    "\n",
    "# Example :\n",
    "# If the file matter.txt has the following content stored in it :\n",
    "# THE WORLD IS ROUND\n",
    "\n",
    "# The function hash_display() should display the following content :\n",
    "# T#H#E# #W#O#R#L#D# #I#S# #R#O#U#N#D#\n",
    "# fh=open(\"matter.txt\",'wt')\n",
    "# text='THE WORLD IS ROUND'     \n",
    "# fh.write(text)\n",
    "# fh.close()\n",
    "def hash_display(fh):\n",
    "    str1=''\n",
    "    for i in fh:\n",
    "        for j in i:\n",
    "            str1=str1+j+'#'\n",
    "    return str1\n",
    "fh=open(\"matter.txt\",'rt')\n",
    "res=hash_display(fh)\n",
    "print(res)\n",
    "fh.close()\n",
    "    "
   ]
  },
  {
   "cell_type": "code",
   "execution_count": 77,
   "metadata": {},
   "outputs": [
    {
     "name": "stdout",
     "output_type": "stream",
     "text": [
      "WELL, THIS IS A WORD BY ITSELF. YOU COULD STRETCH THIS TO BE A SENTENCE\n",
      "\n"
     ]
    }
   ],
   "source": [
    "# Aditi has used a text editing software to type some text. After saving the article as WORDS.TXT, \n",
    "# she realised that she has wrongly typed alphabet J in place of alphabet I everywhere in the article.\n",
    "# Write a function definition for JTOI() in Python that would display the corrected version of entire content \n",
    "# of the file WORDS.TXT with all the alphabets \"J\" to be displayed as an alphabet \"I\" on screen.\n",
    "\n",
    "# Note: Assuming that WORD.TXT does not contain any J alphabet otherwise.\n",
    "\n",
    "# Example:\n",
    "# If Aditi has stored the following content in the file WORDS.TXT:\n",
    "# WELL, THJS JS A WORD BY JTSELF. YOU COULD STRETCH THJS TO BE A SENTENCE\n",
    "# The function JTOI() should display the following content:\n",
    "# WELL, THIS IS A WORD BY ITSELF. YOU COULD STRETCH THIS TO BE A SENTENCE\n",
    "def JTOI(fh):\n",
    "    str1=''\n",
    "    for i in fh:\n",
    "        for j in i:\n",
    "            if j=='J':\n",
    "                str1=str1+'I'\n",
    "            else:\n",
    "                str1=str1+j\n",
    "    return str1\n",
    "fh=open(\"WORDS.txt\",'rt')\n",
    "res=JTOI(fh)\n",
    "print(res)\n",
    "fh.close()\n",
    "    "
   ]
  },
  {
   "cell_type": "code",
   "execution_count": 7,
   "metadata": {},
   "outputs": [
    {
     "name": "stdout",
     "output_type": "stream",
     "text": [
      "A or a: 13\n",
      "M or m: 1\n"
     ]
    }
   ],
   "source": [
    "# Write a function AMCount() in Python, which should read each character of a text file STORY.TXT, \n",
    "# should count and display the occurance of alphabets A and M (including small cases a and m too).\n",
    "# For Example:\n",
    "# If the file content is as follows:\n",
    "# Updated information\n",
    "# As simplified by official websites.\n",
    "# The EUCount() function should display the output as:\n",
    "# A or a:4\n",
    "# M or m :2\n",
    "def AMCount(fh):\n",
    "    lst_a=['a','A']\n",
    "    lst_m=['m','M']\n",
    "    count=0\n",
    "    num=0\n",
    "    for i in fh:\n",
    "        for j in i:\n",
    "            if j in lst_a:\n",
    "                count+=1\n",
    "            elif j in lst_m:\n",
    "                num+=1 \n",
    "            else:\n",
    "                continue\n",
    "                \n",
    "    return (f'A or a: {count}\\nM or m: {num}')\n",
    "with open(\"STORY.TXT\",'rt') as fh:\n",
    "    res= AMCount(fh)\n",
    "    print(res)\n",
    "    "
   ]
  },
  {
   "cell_type": "code",
   "execution_count": 17,
   "metadata": {},
   "outputs": [
    {
     "name": "stdout",
     "output_type": "stream",
     "text": [
      "Enter the the text(when done enter DONE):[91, 'xyz', 'abc', 99]\n",
      "Enter the the text(when done enter DONE):[91, 'xyz', 'abc', 99]\n",
      "Enter the the text(when done enter DONE):[91, 'xyz', 'abc', 99]\n",
      "Enter the the text(when done enter DONE):[91, 'xyz', 'abc', 99]\n",
      "Enter the the text(when done enter DONE):'DONE'\n",
      "[[91, 'xyz', 'abc', 99], [91, 'xyz', 'abc', 99], [91, 'xyz', 'abc', 99], [91, 'xyz', 'abc', 99]]\n",
      "number of book by abc are 4\n"
     ]
    }
   ],
   "source": [
    "# A binary file \"Book.dat\" has structure [BookNo, Book_Name, Author, Price].\n",
    "# i. Write a user defined function createFile() to input data for a record and add to Book.dat.\n",
    "# ii. Write a function countRec(Author) in Python which accepts the Author name as parameter \n",
    "# and count and return number of books by the given Author are stored in the binary file \"Book.dat\"\n",
    "\n",
    "import pickle\n",
    "def creatfile():\n",
    "    fh = open('Book.dat','wb')\n",
    "    text =''\n",
    "    lst=[]\n",
    "    while text != 'DONE':\n",
    "        text = eval(input(\"Enter the the text(when done enter DONE):\"))\n",
    "        if text != 'DONE':\n",
    "            lst.append(text)\n",
    "    pickle.dump(lst,fh)\n",
    "    fh.close()\n",
    "creatfile()\n",
    "def countrec(Author):\n",
    "    with open('Book.dat','rb') as fh:\n",
    "        data=pickle.load(fh)\n",
    "        print(data)\n",
    "        count=0\n",
    "        for i in data:\n",
    "            if i[2]=='abc':\n",
    "                count+=1\n",
    "    return f'number of book by {Author} are {count}'\n",
    "auth='abc'\n",
    "result=countrec(auth)\n",
    "print(result)\n",
    "\n"
   ]
  },
  {
   "cell_type": "code",
   "execution_count": 20,
   "metadata": {
    "scrolled": false
   },
   "outputs": [
    {
     "name": "stdout",
     "output_type": "stream",
     "text": [
      "Enter the the text(when done enter DONE):(12,'sumit',89)\n",
      "Enter the the text(when done enter DONE):(22,'Amit',79)\n",
      "Enter the the text(when done enter DONE):(17,'Sachin',55)\n",
      "Enter the the text(when done enter DONE):(2,'Shalini',69)\n",
      "Enter the the text(when done enter DONE):(1,'Deepak',92)\n",
      "Enter the the text(when done enter DONE):'DONE'\n",
      "[(12, 'sumit', 89), (22, 'Amit', 79), (17, 'Sachin', 55), (2, 'Shalini', 69), (1, 'Deepak', 92)]\n"
     ]
    },
    {
     "data": {
      "text/plain": [
       "'number students above 75% are 3'"
      ]
     },
     "execution_count": 20,
     "metadata": {},
     "output_type": "execute_result"
    }
   ],
   "source": [
    "# A binary file \"STUDENT.DAT\" has structure (admission_number, Name, Percentage). \n",
    "# Write a function count_rec() in Python that would read contents of the file \"STUDENT.DAT\" \n",
    "# and display the details of those students whose percentage is above 75. \n",
    "# Also display number of students scoring above 75%\n",
    "def creatfile():\n",
    "    fh = open('STUDENT.DAT','wb')\n",
    "    text =''\n",
    "    lst=[]\n",
    "    while text != 'DONE':\n",
    "        text = eval(input(\"Enter the the text(when done enter DONE):\"))\n",
    "        if text != 'DONE':\n",
    "            lst.append(text)\n",
    "    pickle.dump(lst,fh)\n",
    "    fh.close()\n",
    "creatfile()\n",
    "def count_rec():\n",
    "    with open('STUDENT.DAT','rb') as fh:\n",
    "        data=pickle.load(fh)\n",
    "        print(data)\n",
    "        count=0\n",
    "        for i in data:\n",
    "            if i[2]>75:\n",
    "                count+=1\n",
    "    return f'number students above 75% are {count}'\n",
    "count_rec()\n"
   ]
  },
  {
   "cell_type": "code",
   "execution_count": 34,
   "metadata": {},
   "outputs": [
    {
     "name": "stdout",
     "output_type": "stream",
     "text": [
      "{'empcode': 123, 'name': 'Deepak', 'salary': 40000}\n",
      "{'empcode': 153, 'name': 'manish', 'salary': 60000}\n"
     ]
    }
   ],
   "source": [
    "# Given a binary file employee.dat, created using dictionary object having keys: (empcode, name, and salary)\n",
    "\n",
    "# Write a python function that add one more record at the end of file.\n",
    "# Write a python function that display all employee records whose salary is more that 30000\n",
    "import pickle\n",
    "raw_data={'empcode':123,'name':'Deepak','salary':40000}\n",
    "with open('employee.dat','wb') as fh:\n",
    "    pickle.dump(raw_data,fh)\n",
    "\n",
    "with open('employee.dat','ab') as fh:\n",
    "    text={'empcode':153,'name':'manish','salary':60000}\n",
    "    pickle.dump(text,fh)\n",
    "with open('employee.dat','ab') as fh:\n",
    "    text={'empcode':222,'name':'Roopak','salary':24000}\n",
    "    pickle.dump(text,fh)\n",
    "with open('employee.dat','rb') as fh:\n",
    "    while True:\n",
    "        try:\n",
    "            data=pickle.load(fh)\n",
    "            if data['salary']> 30000:\n",
    "                print(data)\n",
    "        except:\n",
    "            break\n",
    "\n",
    "    \n",
    "    "
   ]
  },
  {
   "cell_type": "code",
   "execution_count": 43,
   "metadata": {},
   "outputs": [
    {
     "data": {
      "text/plain": [
       "{'rollno': 1005, 'name': 'Sumit', 'class': 9, 'fees': 35000}"
      ]
     },
     "execution_count": 43,
     "metadata": {},
     "output_type": "execute_result"
    }
   ],
   "source": [
    "# Write a function to search and display details of student whose rollno is '1005' \n",
    "# from the binary file student.dat having structure [rollno, name, class and fees].\n",
    "import pickle\n",
    "raw_data={'rollno':1230,'name':'Deepak','class':4,'fees':25000}\n",
    "with open('student.dat','wb') as fh:\n",
    "    pickle.dump(raw_data,fh)\n",
    "with open('student.dat','ab') as fh:\n",
    "    text={'rollno':1005,'name':'Sumit','class':9,'fees':35000}\n",
    "    pickle.dump(text,fh)\n",
    "with open('student.dat','ab') as fh:\n",
    "    text={'rollno':123,'name':'Roopak','class':8,'fees':28000}\n",
    "    pickle.dump(text,fh)\n",
    "def search_roll(r_num):\n",
    "    with open('student.dat','rb') as fh:\n",
    "        while True:\n",
    "            try:\n",
    "                data=pickle.load(fh)\n",
    "                if data['rollno']==r_num:\n",
    "                    return data\n",
    "            except:\n",
    "                break\n",
    "rnum=1005 # add manually rnum=int(input(\"enter the roll number whose details you want :\"))\n",
    "search_roll(rnum)"
   ]
  },
  {
   "cell_type": "code",
   "execution_count": 44,
   "metadata": {},
   "outputs": [
    {
     "data": {
      "text/plain": [
       "'Total fees is 88000'"
      ]
     },
     "execution_count": 44,
     "metadata": {},
     "output_type": "execute_result"
    }
   ],
   "source": [
    "# A binary file school.dat has structure(rollno, name, class, fees)\n",
    "\n",
    "# Write a definition for function total_fees( ) that reads each object of file and calculate \n",
    "# the total fees of students and display the same\n",
    "import pickle\n",
    "raw_data={'rollno':1230,'name':'Deepak','class':4,'fees':25000}\n",
    "with open('school.dat','wb') as fh:\n",
    "    pickle.dump(raw_data,fh)\n",
    "with open('school.dat','ab') as fh:\n",
    "    text={'rollno':1005,'name':'Sumit','class':9,'fees':35000}\n",
    "    pickle.dump(text,fh)\n",
    "with open('school.dat','ab') as fh:\n",
    "    text={'rollno':123,'name':'Roopak','class':8,'fees':28000}\n",
    "    pickle.dump(text,fh)\n",
    "def total_fees():\n",
    "    total=0\n",
    "    with open('school.dat','rb') as fh:\n",
    "        while True:\n",
    "            try:\n",
    "                data=pickle.load(fh)\n",
    "                total=total+data['fees']\n",
    "                \n",
    "            except:\n",
    "                break\n",
    "    return f'Total fees is {total}'\n",
    "total_fees()"
   ]
  },
  {
   "cell_type": "code",
   "execution_count": 49,
   "metadata": {},
   "outputs": [
    {
     "name": "stdout",
     "output_type": "stream",
     "text": [
      "[12, 'Amit', 'India', 12450]\n"
     ]
    }
   ],
   "source": [
    "# A binary file players.dat, containing records of following list format: [code, name, country and total runs]\n",
    "\n",
    "# 1. Write a python function that display all records where player name starts from 'A'\n",
    "# 2. Write a python function that accept country as an argument and count and display \n",
    "#     the number of players of that country.\n",
    "# 3. Write a python function that add one record at the end of file.\n",
    "import pickle\n",
    "raw_data=[12,'Amit','India',12450]\n",
    "with open('players.dat','wb') as fh:\n",
    "    pickle.dump(raw_data,fh)\n",
    "with open('players.dat','ab') as fh:\n",
    "    text=[22,'Sachin','India',22450]\n",
    "    pickle.dump(text,fh)\n",
    "with open('players.dat','ab') as fh:\n",
    "    text=[32,'Ponting','Austerlia',18450]\n",
    "    pickle.dump(text,fh)\n",
    "def name_a():\n",
    "    with open('players.dat','rb') as fh:\n",
    "        while True:\n",
    "            try:\n",
    "                data=pickle.load(fh)\n",
    "                if data[1][0]=='A':\n",
    "                    print(data)\n",
    "                \n",
    "            except:\n",
    "                break\n",
    "name_a()"
   ]
  },
  {
   "cell_type": "code",
   "execution_count": 78,
   "metadata": {
    "ExecuteTime": {
     "end_time": "2021-05-29T10:46:59.140338Z",
     "start_time": "2021-05-29T10:46:59.135100Z"
    }
   },
   "outputs": [
    {
     "name": "stdout",
     "output_type": "stream",
     "text": [
      "['Basket Ball', 22]\n"
     ]
    }
   ],
   "source": [
    "# Given a binary file game.dat, containing records of following list format: [game_name, participants]\n",
    "\n",
    "# Write a function in Python that would read contents from the file game.dat and \n",
    "# creates a file named basket.dat copying only those records from game.dat where the game name is \"Basket Ball\"\n",
    "# import pickle\n",
    "# lst=[['cricket',11],['Basket Ball',22],['baseball',22],['Rugby',15],['football',15]]\n",
    "# with open('game.dat','wb') as fh:\n",
    "#     pickle.dump(lst,fh)\n",
    "fh1=open('game.dat','rb')\n",
    "data=pickle.load(fh1)\n",
    "for i in data:\n",
    "    if i[0]=='Basket Ball':\n",
    "        print(i)"
   ]
  },
  {
   "cell_type": "code",
   "execution_count": 21,
   "metadata": {},
   "outputs": [],
   "source": []
  },
  {
   "cell_type": "code",
   "execution_count": 11,
   "metadata": {},
   "outputs": [],
   "source": []
  },
  {
   "cell_type": "code",
   "execution_count": null,
   "metadata": {},
   "outputs": [],
   "source": []
  },
  {
   "cell_type": "code",
   "execution_count": null,
   "metadata": {},
   "outputs": [],
   "source": [
    "\n",
    "    "
   ]
  },
  {
   "cell_type": "code",
   "execution_count": null,
   "metadata": {},
   "outputs": [],
   "source": []
  }
 ],
 "metadata": {
  "kernelspec": {
   "display_name": "Python 3 (ipykernel)",
   "language": "python",
   "name": "python3"
  },
  "language_info": {
   "codemirror_mode": {
    "name": "ipython",
    "version": 3
   },
   "file_extension": ".py",
   "mimetype": "text/x-python",
   "name": "python",
   "nbconvert_exporter": "python",
   "pygments_lexer": "ipython3",
   "version": "3.9.12"
  }
 },
 "nbformat": 4,
 "nbformat_minor": 2
}
