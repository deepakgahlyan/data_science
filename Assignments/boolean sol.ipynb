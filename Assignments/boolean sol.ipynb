{
 "cells": [
  {
   "cell_type": "code",
   "execution_count": 1,
   "id": "95bd4acb",
   "metadata": {},
   "outputs": [
    {
     "name": "stdout",
     "output_type": "stream",
     "text": [
      "<class 'bool'>\n",
      "140711933106280\n"
     ]
    }
   ],
   "source": [
    "# Declare a Boolean value and store it in a variable.\n",
    "#Check the type and print the id of the same.\n",
    "a=True\n",
    "print(type(a))\n",
    "print(id(a))"
   ]
  },
  {
   "cell_type": "code",
   "execution_count": 2,
   "id": "ffbbf505",
   "metadata": {},
   "outputs": [
    {
     "name": "stdout",
     "output_type": "stream",
     "text": [
      "140711933106280\n",
      "140711933106280\n"
     ]
    }
   ],
   "source": [
    "a=True\n",
    "b=True \n",
    "print(id(a))\n",
    "print(id(b))\n"
   ]
  },
  {
   "cell_type": "code",
   "execution_count": 4,
   "id": "1ad93f64",
   "metadata": {},
   "outputs": [
    {
     "name": "stdout",
     "output_type": "stream",
     "text": [
      "Enter the first number : False\n",
      "Enter the second numbef number : True\n",
      "Sum of these two is = 1\n",
      "Difference of these two is = -1\n",
      "Product of these two is = 0\n",
      "Result after dividing first by second  = 0.0\n",
      "Result after first is raised power by second  = 0\n"
     ]
    }
   ],
   "source": [
    "#Arithmetic Operations on integers\n",
    "a=eval(input(\"Enter the first number : \"))\n",
    "b=eval(input(\"Enter the second numbef number : \"))\n",
    "print(\"Sum of these two is =\",a+b)\n",
    "print(\"Difference of these two is =\",a-b)\n",
    "print(\"Product of these two is =\",a*b)\n",
    "print(\"Result after dividing first by second  =\",a/b)\n",
    "print(\"Result after first is raised power by second  =\",a**b)\n"
   ]
  },
  {
   "cell_type": "code",
   "execution_count": 1,
   "id": "b93441da",
   "metadata": {},
   "outputs": [
    {
     "name": "stdout",
     "output_type": "stream",
     "text": [
      "Enter the first number : True\n",
      "Enter the second numbef number : False\n",
      "a is Greater than b :  True\n",
      "a is less than b :  False\n",
      "a is Greater than or equal to  b :  True\n",
      "a is less than or equal to  b :  False\n"
     ]
    }
   ],
   "source": [
    "a=eval(input(\"Enter the first number : \"))\n",
    "b=eval(input(\"Enter the second numbef number : \"))\n",
    "print(\"a is Greater than b : \",a>b)\n",
    "print(\"a is less than b : \",a<b)\n",
    "print(\"a is Greater than or equal to  b : \",a>=b)\n",
    "print(\"a is less than or equal to  b : \",a <=b)"
   ]
  },
  {
   "cell_type": "code",
   "execution_count": 2,
   "id": "e3ad3930",
   "metadata": {},
   "outputs": [
    {
     "name": "stdout",
     "output_type": "stream",
     "text": [
      "Enter the first number : True\n",
      "Enter the second numbef number : False\n",
      "a is equal to b :  False\n",
      "a is not equal to b :  True\n"
     ]
    }
   ],
   "source": [
    "#Equality Operator\n",
    "#Observe the output(return type should be boolean)\n",
    "\n",
    "\n",
    "a=eval(input(\"Enter the first number : \"))\n",
    "b=eval(input(\"Enter the second numbef number : \"))\n",
    "print(\"a is equal to b : \",a==b)\n",
    "print(\"a is not equal to b : \",a!=b)\n"
   ]
  },
  {
   "cell_type": "code",
   "execution_count": 9,
   "id": "fbedbf63",
   "metadata": {},
   "outputs": [
    {
     "name": "stdout",
     "output_type": "stream",
     "text": [
      "True\n",
      "False\n",
      "False\n",
      "False\n",
      "True\n",
      "True\n",
      "True\n",
      "False\n",
      "False\n",
      "True\n"
     ]
    }
   ],
   "source": [
    "print(True and True)\n",
    "# first is true so move to second and print it>Output is True\n",
    "print(False and True)\n",
    "# as first is false it will not move to second so print first >Output is False\n",
    "print(True and False)\n",
    "#first is true so move to second and print it >Output is False\n",
    "print(False and False)\n",
    "#as first is false it will not move to second so print first>Output is False\n",
    "print(True or True)\n",
    "#first is true so it will not move the second so it will print first >Output is True\n",
    "print(False or True)\n",
    "#As first is false it will check second and print it >Output is True\n",
    "print(True or False)\n",
    "#first is true so it will not move the second so it will print first>Output is True\n",
    "print(False or False)\n",
    "#As first is false it will check second and print it>Output is False\n",
    "print(not True)\n",
    "# not of true is false >Output is False\n",
    "print(not False)\n",
    "#not of false is true >Output is True"
   ]
  },
  {
   "cell_type": "code",
   "execution_count": 14,
   "id": "589275b1",
   "metadata": {},
   "outputs": [
    {
     "name": "stdout",
     "output_type": "stream",
     "text": [
      "True\n",
      "True\n",
      "True\n",
      "-2\n",
      "4\n",
      "0\n"
     ]
    }
   ],
   "source": [
    "# functioning of and (&) operator  Returns 0 if one of the bits is 0 \n",
    "#bin(True)= 1\n",
    "#bin(True)= 1\n",
    "#----------------\n",
    "#and     = 1\n",
    "#(0b1)=1 =True\n",
    "print(True & True)\n",
    "\n",
    "# functioning of bitwise or (|) operator Returns 1 if one of the bits is 1 \n",
    "#bin(True)= 1\n",
    "#bin(20)=   0\n",
    "#----------------\n",
    "#or     =   1\n",
    "#(0b1)=  1= True\n",
    "print(True|False)\n",
    "\n",
    "#functioning of bitwise xor (^) operator  Returns 1 if one of the bits is 1 and the other is 0 else returns false.\n",
    "#bin(True)= 1\n",
    "#bin(20)=   0\n",
    "#----------------\n",
    "#or     =   1\n",
    "#(0b1)= 1 = True \n",
    "print(True^False)\n",
    "\n",
    "# functioning of bitwise negate (~) function  add +1 to the number and return its - value \n",
    "# True = 1\n",
    "# ~True = -(1+1) =-2\n",
    "print(~True)\n",
    " \n",
    "# functioning of bitwise left shift(<<) operator (32, 64 bit )\n",
    "#True=00000000000000000000000000000001\n",
    "#left shift by 2 bits \n",
    "# a=00000000000000000000000000000100\n",
    "# print(0b00000000000000000000000000000100)=4\n",
    "print(True<<2)\n",
    "\n",
    "# functioning of bitwise right shift(>>) operator (32, 64 bit )\n",
    "#True=00000000000000000000000000000001\n",
    "# right shift by 2 bits \n",
    "# a=00000000000000000000000000000000\n",
    "# print(0b00000000000000000000000000000000)=0\n",
    "print(True>>2)\n"
   ]
  },
  {
   "cell_type": "code",
   "execution_count": 15,
   "id": "f155fff3",
   "metadata": {},
   "outputs": [
    {
     "name": "stdout",
     "output_type": "stream",
     "text": [
      "True\n",
      "False\n",
      "True\n",
      "False\n"
     ]
    }
   ],
   "source": [
    "a = True\n",
    "b = True\n",
    "print(a is b) #True as a and b have same id \n",
    "print(a is not b) # False as a and b have same id\n",
    "a = False\n",
    "b = False\n",
    "print(a is b) #True as a and b have same id \n",
    "print(a is not b) #False as a and b have same id"
   ]
  },
  {
   "cell_type": "code",
   "execution_count": 17,
   "id": "91bca4ac",
   "metadata": {},
   "outputs": [
    {
     "name": "stdout",
     "output_type": "stream",
     "text": [
      "True\n",
      "True\n",
      "True\n",
      "True\n",
      "True\n"
     ]
    }
   ],
   "source": [
    "print(True in [10,10.20,10+20j,'Python', True]) # True as its there in list\n",
    "print(False in (10,10.20,10+20j,'Python', False))# True as its there in tuple\n",
    "print(True in {1,2,3, True})# True as its there in set\n",
    "print(True in {True:100, False:200, True:300})# True as its there in dict as key \n",
    "print(False in {True:100, False:200, True:300})# True as its there in dict as key "
   ]
  },
  {
   "cell_type": "code",
   "execution_count": null,
   "id": "59f994e7",
   "metadata": {},
   "outputs": [],
   "source": []
  },
  {
   "cell_type": "code",
   "execution_count": null,
   "id": "89c9affe",
   "metadata": {},
   "outputs": [],
   "source": []
  }
 ],
 "metadata": {
  "kernelspec": {
   "display_name": "Python 3 (ipykernel)",
   "language": "python",
   "name": "python3"
  },
  "language_info": {
   "codemirror_mode": {
    "name": "ipython",
    "version": 3
   },
   "file_extension": ".py",
   "mimetype": "text/x-python",
   "name": "python",
   "nbconvert_exporter": "python",
   "pygments_lexer": "ipython3",
   "version": "3.9.12"
  }
 },
 "nbformat": 4,
 "nbformat_minor": 5
}
