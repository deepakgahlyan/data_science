{
 "cells": [
  {
   "cell_type": "code",
   "execution_count": 2,
   "id": "f1658a2b",
   "metadata": {},
   "outputs": [
    {
     "name": "stdout",
     "output_type": "stream",
     "text": [
      "<class 'int'>\n",
      "2343253207632\n"
     ]
    }
   ],
   "source": [
    "# Declare an int value and store it in a variable.\n",
    "#Check the type and print the id of the same.\n",
    "a=10\n",
    "print(type(a))\n",
    "print(id(a))\n"
   ]
  },
  {
   "cell_type": "code",
   "execution_count": 3,
   "id": "314db316",
   "metadata": {},
   "outputs": [
    {
     "name": "stdout",
     "output_type": "stream",
     "text": [
      "2343253207632\n",
      "2343253207632\n"
     ]
    }
   ],
   "source": [
    "#Take one int value between 0 - 256.\n",
    "#Assign it to two different variables.\n",
    "#Check the id of both the variables. It should come the same. Check why?\n",
    "a=10\n",
    "b=10\n",
    "print(\"id of a=\",id(a))\n",
    "print(:id of b=\",id(b))\n",
    "# it is beacuse of reusability , as these number are most frequent in python program so develpoers made -5 to 256 range have same meory adress\n"
   ]
  },
  {
   "cell_type": "code",
   "execution_count": 4,
   "id": "30783f16",
   "metadata": {},
   "outputs": [
    {
     "name": "stdout",
     "output_type": "stream",
     "text": [
      "id of a= 2343367763856\n",
      "id of b= 2343367765392\n"
     ]
    }
   ],
   "source": [
    "#Take one int value either less than -5 or greater than 256.\n",
    "#Assign it to two different variables.\n",
    "#Check the id of both the variables. It should come different.Check why?\n",
    "a=500\n",
    "b=500\n",
    "print(\"id of a=\",id(a))\n",
    "print(\"id of b=\",id(b))\n",
    "# AS t is out of -5 to 256 range python will  assign these two number to new memory adress "
   ]
  },
  {
   "cell_type": "code",
   "execution_count": 30,
   "id": "a9470749",
   "metadata": {},
   "outputs": [
    {
     "name": "stdout",
     "output_type": "stream",
     "text": [
      "Enter the first number : 25\n",
      "Enter the second numbef number : 12\n",
      "Sum of these two is = 37\n",
      "Difference of these two is = 13\n",
      "Product of these two is = 300\n",
      "Result after dividing first by second  = 2.0833333333333335\n",
      "Remainder after dividing first by second  is = 1\n",
      "Quotient after dividing first by second  is = 2\n",
      "Result after first is raised power by second  = 59604644775390625\n"
     ]
    }
   ],
   "source": [
    "#Arithmetic Operations on integers\n",
    "a=int(input(\"Enter the first number : \"))\n",
    "b=int(input(\"Enter the second numbef number : \"))\n",
    "print(\"Sum of these two is =\",a+b)\n",
    "print(\"Difference of these two is =\",a-b)\n",
    "print(\"Product of these two is =\",a*b)\n",
    "print(\"Result after dividing first by second  =\",a/b)\n",
    "print(\"Remainder after dividing first by second  is =\",a%b)\n",
    "print(\"Quotient after dividing first by second  is =\",a//b)\n",
    "print(\"Result after first is raised power by second  =\",a**b)\n",
    "\n"
   ]
  },
  {
   "cell_type": "code",
   "execution_count": 9,
   "id": "13555878",
   "metadata": {},
   "outputs": [
    {
     "name": "stdout",
     "output_type": "stream",
     "text": [
      "Enter the first number : 15\n",
      "Enter the second numbef number : 20\n",
      "a is Greater than b :  False\n",
      "a is less than b :  True\n",
      "a is Greater than or equal to  b :  False\n",
      "a is less than or equal to  b :  True\n"
     ]
    }
   ],
   "source": [
    "#Comparison Operators on integers\n",
    "#Observe their output(return type should be boolean)\n",
    "\n",
    "a=int(input(\"Enter the first number : \"))\n",
    "b=int(input(\"Enter the second numbef number : \"))\n",
    "print(\"a is Greater than b : \",a>b)\n",
    "print(\"a is less than b : \",a<b)\n",
    "print(\"a is Greater than or equal to  b : \",a>=b)\n",
    "\n",
    "print(\"a is less than or equal to  b : \",a <=b)"
   ]
  },
  {
   "cell_type": "code",
   "execution_count": 10,
   "id": "0a528d63",
   "metadata": {},
   "outputs": [
    {
     "name": "stdout",
     "output_type": "stream",
     "text": [
      "Enter the first number : 12\n",
      "Enter the second numbef number : 15\n",
      "a is equal to b :  False\n",
      "a is not equal to b :  True\n"
     ]
    }
   ],
   "source": [
    "#Equality Operator\n",
    "#Observe the output(return type should be boolean)\n",
    "\n",
    "\n",
    "a=int(input(\"Enter the first number : \"))\n",
    "b=int(input(\"Enter the second numbef number : \"))\n",
    "print(\"a is equal to b : \",a==b)\n",
    "print(\"a is not equal to b : \",a!=b)\n"
   ]
  },
  {
   "cell_type": "code",
   "execution_count": 12,
   "id": "05185854",
   "metadata": {},
   "outputs": [
    {
     "name": "stdout",
     "output_type": "stream",
     "text": [
      "1 = 20\n",
      "2 = 0\n",
      "3= 0\n",
      "4 = 0\n",
      "5 = 20\n",
      "6 = 20\n",
      "7 = 0\n",
      "8 = False\n",
      "9= True\n"
     ]
    }
   ],
   "source": [
    "print(\"1 =\",10 and 20) # And will check if both true if first is true 2nd value will be output\n",
    "print(\"2 =\",0 and 20) # first is false so need not to check second so first value will be output\n",
    "\n",
    "print(\"3=\",20 and 0)# first is true so output will be second value that is 0\n",
    "\n",
    "print(\"4 =\",0 and 0) # first is false so first will be output \n",
    "\n",
    "# or will give output as true if first is false it will check for second value \n",
    "print(\"5 =\",0 or 20) # first is false so will check 2nd value so output will be 20\n",
    "\n",
    "print(\"6 =\",20 or 0) # here first is true so will not check second value output will be 20 \n",
    "\n",
    "print(\"7 =\",0 or 0) # first is false so will go to 2nd value and output will be 0\n",
    "\n",
    "print(\"8 =\",not 10) # 10 is true so not 10 will be false\n",
    "\n",
    "print(\"9=\",not 0)# 0 is false so not 0 will be true \n",
    "\n"
   ]
  },
  {
   "cell_type": "code",
   "execution_count": 24,
   "id": "9289e2fa",
   "metadata": {},
   "outputs": [
    {
     "name": "stdout",
     "output_type": "stream",
     "text": [
      "0\n",
      "30\n",
      "30\n",
      "-11\n",
      "40\n",
      "2\n"
     ]
    }
   ],
   "source": [
    "# functioning of and (&) operator  Returns 0 if one of the bits is 0 \n",
    "#bin(10)=  01010\n",
    "#bin(20)=  10100\n",
    "#----------------\n",
    "#and     = 00000\n",
    "#(0b00000)=0\n",
    "print(10 & 20)\n",
    "\n",
    "# functioning of bitwise or (|) operator Returns 1 if one of the bits is 1 \n",
    "#bin(10)= 01010\n",
    "#bin(20)= 10100\n",
    "#----------------\n",
    "#or     = 11110\n",
    "#int(0b11110)= 30\n",
    "print(10|20)\n",
    "\n",
    "#functioning of bitwise xor (^) operator  Returns 1 if one of the bits is 1 and the other is 0 else returns false.\n",
    "#bin(10)=  01010\n",
    "#bin(20)=  10100\n",
    "#----------------\n",
    "#or    =   11110\n",
    "#int(0b11110)= 30 \n",
    "print(10^20)\n",
    "\n",
    "# functioning of bitwise negate (~) function  add +1 to the number and return its - value \n",
    "# ~10= -(10+1)\n",
    "print(~10)\n",
    "\n",
    " \n",
    "# functioning of bitwise left shift(<<) operator (32, 64 bit )\n",
    "#a=00000000000000000000000000001010\n",
    "#left shift by 2 bits \n",
    "# a=00000000000000000000000000101000\n",
    "# print(0b00000000000000000000000000101000)=40\n",
    "print(10<<2)\n",
    "\n",
    "# functioning of bitwise right shift(>>) operator (32, 64 bit )\n",
    "#a= 00000000000000000000000000001010\n",
    "#right shift by 2 bits remove right most 2 bits and add 2 00 in begining\n",
    "# a= 00000000000000000000000000000010\n",
    "# print(0b00000000000000000000000000000010)=2\n",
    "print(10>>2)\n"
   ]
  },
  {
   "cell_type": "code",
   "execution_count": 25,
   "id": "ea399aa2",
   "metadata": {},
   "outputs": [
    {
     "name": "stdout",
     "output_type": "stream",
     "text": [
      "True\n",
      "False\n",
      "False\n",
      "True\n"
     ]
    }
   ],
   "source": [
    "a = 10\n",
    "b = 10\n",
    "print(a is b) # true as id of a is equal to b as range is -5 to 256 \n",
    "print(a is not b) #false as id of a is equal to b as range is -5 to 256 \n",
    "a = 1000\n",
    "b = 1000\n",
    "print(a is b) # False as id of a is not  equal to b as range  is outside  -5 to 256\n",
    "print(a is not b) #True as id of a is not  equal to b as range  is outside  -5 to 256"
   ]
  },
  {
   "cell_type": "code",
   "execution_count": 26,
   "id": "a59d03af",
   "metadata": {},
   "outputs": [
    {
     "name": "stdout",
     "output_type": "stream",
     "text": [
      "20\n"
     ]
    }
   ],
   "source": [
    "print(10+(10*32)//2**5&20+(~(-10))<<2)\n"
   ]
  },
  {
   "cell_type": "code",
   "execution_count": 27,
   "id": "b1091d81",
   "metadata": {},
   "outputs": [
    {
     "name": "stdout",
     "output_type": "stream",
     "text": [
      "True\n",
      "True\n",
      "True\n",
      "True\n",
      "True\n",
      "True\n"
     ]
    }
   ],
   "source": [
    "# membership operator \n",
    "print('2' in 'Python2.7.8') # True as 2 is  there \n",
    "print(10 in [10,10.20,10+20j,'Python']) # True as 10 is there\n",
    "print(10 in (10,10.20,10+20j,'Python')) # True as 10 is there \n",
    "print(2 in {1,2,3}) # True as 2 is there\n",
    "print(3 in {1:100, 2:200, 3:300}) # True as 3 is the \n",
    "print(10 in range(20)) # true as 10 is between 0,20 \n",
    "\n"
   ]
  },
  {
   "cell_type": "code",
   "execution_count": 28,
   "id": "f3a2d778",
   "metadata": {},
   "outputs": [
    {
     "name": "stdout",
     "output_type": "stream",
     "text": [
      "binary represntaion of 9876 is  0b10011010010100\n",
      "Octal represntaion of 9876 is  0o23224\n",
      "hexadecimal represntaion of 9876 is  0x2694\n"
     ]
    }
   ],
   "source": [
    "num=9876\n",
    "a=bin(num)\n",
    "b=oct(num)\n",
    "c=hex(num)\n",
    "print(\"binary represntaion of\",num,\"is \",a)\n",
    "print(\"Octal represntaion of\",num,\"is \",b)\n",
    "print(\"hexadecimal represntaion of\",num,\"is \",c)"
   ]
  },
  {
   "cell_type": "code",
   "execution_count": 29,
   "id": "9f8bde6d",
   "metadata": {},
   "outputs": [
    {
     "name": "stdout",
     "output_type": "stream",
     "text": [
      "80\n",
      "3870\n",
      "64222\n",
      "0b1010000\n",
      "0o7436\n",
      "0xfade\n",
      "0b1010000\n",
      "0b1111101011011110\n",
      "0o175336\n",
      "0o7436\n",
      "0x50\n",
      "0xfade\n"
     ]
    }
   ],
   "source": [
    "a = 0b1010000\n",
    "print(a)\n",
    "b = 0o7436\n",
    "print(b)\n",
    "c = 0xfade\n",
    "print(c)\n",
    "print(bin(80))\n",
    "print(oct(3870))\n",
    "print(hex(64222))\n",
    "print(bin(0b1010000))\n",
    "print(bin(0xfade))\n",
    "print(oct(0xfade))\n",
    "print(oct(0o7436))\n",
    "print(hex(0b1010000))\n",
    "print(hex(0xfade))"
   ]
  },
  {
   "cell_type": "code",
   "execution_count": 2,
   "id": "92854f0c",
   "metadata": {},
   "outputs": [
    {
     "data": {
      "text/plain": [
       "512000000000.0"
      ]
     },
     "execution_count": 2,
     "metadata": {},
     "output_type": "execute_result"
    }
   ],
   "source": [
    "20*10/20\n"
   ]
  },
  {
   "cell_type": "code",
   "execution_count": null,
   "id": "9a6e4788",
   "metadata": {},
   "outputs": [],
   "source": []
  }
 ],
 "metadata": {
  "kernelspec": {
   "display_name": "Python 3 (ipykernel)",
   "language": "python",
   "name": "python3"
  },
  "language_info": {
   "codemirror_mode": {
    "name": "ipython",
    "version": 3
   },
   "file_extension": ".py",
   "mimetype": "text/x-python",
   "name": "python",
   "nbconvert_exporter": "python",
   "pygments_lexer": "ipython3",
   "version": "3.9.12"
  }
 },
 "nbformat": 4,
 "nbformat_minor": 5
}
