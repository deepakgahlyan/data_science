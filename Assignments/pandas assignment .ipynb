{
 "cells": [
  {
   "cell_type": "code",
   "execution_count": 4,
   "id": "49b38c41",
   "metadata": {},
   "outputs": [
    {
     "name": "stdout",
     "output_type": "stream",
     "text": [
      "0    10\n",
      "1    25\n",
      "2    38\n",
      "3    43\n",
      "4    56\n",
      "dtype: int64\n"
     ]
    }
   ],
   "source": [
    "# Write a Python program to create and display a onedimensional array-like object containing an array of data using\n",
    "# Pandas module.\n",
    "import pandas as pd\n",
    "import numpy as np\n",
    "data=[10,25,38,43,56]\n",
    "s1=pd.Series(data)\n",
    "print(s1)"
   ]
  },
  {
   "cell_type": "code",
   "execution_count": 10,
   "id": "2364a350",
   "metadata": {},
   "outputs": [
    {
     "name": "stdout",
     "output_type": "stream",
     "text": [
      "0    10\n",
      "1    25\n",
      "2    38\n",
      "3    43\n",
      "4    56\n",
      "dtype: int64\n",
      "[10, 25, 38, 43, 56] <class 'list'>\n"
     ]
    }
   ],
   "source": [
    "# Write a Python program to convert a Panda module Series to\n",
    "# Python list and its type.\n",
    "data=[10,25,38,43,56]\n",
    "s1=pd.Series(data)\n",
    "print(s1)\n",
    "lst=list(s1.values)\n",
    "print(lst,type(lst))"
   ]
  },
  {
   "cell_type": "code",
   "execution_count": 19,
   "id": "42f55bf4",
   "metadata": {},
   "outputs": [
    {
     "name": "stdout",
     "output_type": "stream",
     "text": [
      "0    30\n",
      "1    34\n",
      "2    36\n",
      "3    24\n",
      "4    40\n",
      "dtype: int64 \n",
      " 0    -6\n",
      "1    -4\n",
      "2   -10\n",
      "3    10\n",
      "4    10\n",
      "dtype: int64 \n",
      " 0    216\n",
      "1    285\n",
      "2    299\n",
      "3    119\n",
      "4    375\n",
      "dtype: int64 \n",
      " 0    0.666667\n",
      "1    0.789474\n",
      "2    0.565217\n",
      "3    2.428571\n",
      "4    1.666667\n",
      "dtype: float64\n"
     ]
    }
   ],
   "source": [
    "# Write a Python program to add, subtract, multiple and divide\n",
    "# two Pandas Series.\n",
    "data1=[12,15,13,17,25]\n",
    "data2=[18,19,23,7,15]\n",
    "s1=pd.Series(data1)\n",
    "s2=pd.Series(data2)\n",
    "print(s1+s2,'\\n',s1-s2,'\\n', s1*s2,'\\n', s1/s2)\n"
   ]
  },
  {
   "cell_type": "code",
   "execution_count": 20,
   "id": "fb94736a",
   "metadata": {},
   "outputs": [
    {
     "name": "stdout",
     "output_type": "stream",
     "text": [
      "0    False\n",
      "1    False\n",
      "2    False\n",
      "3    False\n",
      "4     True\n",
      "5     True\n",
      "6    False\n",
      "dtype: bool\n"
     ]
    }
   ],
   "source": [
    "#  Write a Python program to compare the elements of the two\n",
    "# Pandas Series.\n",
    "s1 = pd.Series([2.5, 4, 6, 8, 10, 1.75, 40])\n",
    "s2 = pd.Series([1.5, 3, 5, 7, 10, 1.75, 20])\n",
    "print(s1==s2)"
   ]
  },
  {
   "cell_type": "code",
   "execution_count": null,
   "id": "b2f26df5",
   "metadata": {},
   "outputs": [],
   "source": [
    "# Write a Python program to display the following data column\n",
    "# wise."
   ]
  },
  {
   "cell_type": "code",
   "execution_count": null,
   "id": "088e911c",
   "metadata": {},
   "outputs": [],
   "source": [
    "# Write a Python program to create and display a Data Frame\n",
    "# from a specified dictionary data which has the index labels."
   ]
  },
  {
   "cell_type": "code",
   "execution_count": null,
   "id": "406a4fd8",
   "metadata": {},
   "outputs": [],
   "source": [
    "# Write a Python program to select the specified columns and\n",
    "# rows from a given Data Frame."
   ]
  },
  {
   "cell_type": "code",
   "execution_count": null,
   "id": "9beb80cb",
   "metadata": {},
   "outputs": [],
   "source": [
    "#  Write a Python program to select the rows the score is between\n",
    "# 15 and 20 (inclusive)."
   ]
  },
  {
   "cell_type": "code",
   "execution_count": null,
   "id": "768d1aed",
   "metadata": {},
   "outputs": [],
   "source": [
    "#  Write a Python program to select the rows where number of\n",
    "# attempts in the examination is less than 2 and score greater than\n",
    "# 15."
   ]
  },
  {
   "cell_type": "code",
   "execution_count": null,
   "id": "6c02d187",
   "metadata": {},
   "outputs": [],
   "source": [
    "# Write a Python program to append a new row 'k' to Data Frame\n",
    "# with given values for each column. Now delete the new row and\n",
    "# return the original data frame."
   ]
  },
  {
   "cell_type": "code",
   "execution_count": 2,
   "id": "c97f671b",
   "metadata": {},
   "outputs": [],
   "source": [
    "#  Write a Python program to sort the data frame first by 'name' in\n",
    "# descending order, then by 'score' in ascending order."
   ]
  },
  {
   "cell_type": "code",
   "execution_count": null,
   "id": "3fab8385",
   "metadata": {},
   "outputs": [],
   "source": [
    "# Write a Python program to insert a new column in existing Data\n",
    "# Frame."
   ]
  },
  {
   "cell_type": "code",
   "execution_count": null,
   "id": "efe0254f",
   "metadata": {},
   "outputs": [],
   "source": [
    "#  Write a Python program to change the name 'James' to 'Suresh'\n",
    "# in name column of the data frame."
   ]
  },
  {
   "cell_type": "code",
   "execution_count": null,
   "id": "c5ed6faf",
   "metadata": {},
   "outputs": [],
   "source": []
  }
 ],
 "metadata": {
  "kernelspec": {
   "display_name": "Python 3 (ipykernel)",
   "language": "python",
   "name": "python3"
  },
  "language_info": {
   "codemirror_mode": {
    "name": "ipython",
    "version": 3
   },
   "file_extension": ".py",
   "mimetype": "text/x-python",
   "name": "python",
   "nbconvert_exporter": "python",
   "pygments_lexer": "ipython3",
   "version": "3.9.12"
  }
 },
 "nbformat": 4,
 "nbformat_minor": 5
}
