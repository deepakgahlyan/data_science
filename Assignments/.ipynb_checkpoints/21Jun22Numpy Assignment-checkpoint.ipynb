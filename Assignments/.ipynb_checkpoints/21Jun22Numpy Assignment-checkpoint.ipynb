{
 "cells": [
  {
   "cell_type": "code",
   "execution_count": 49,
   "id": "8aa8ad19",
   "metadata": {},
   "outputs": [
    {
     "name": "stdout",
     "output_type": "stream",
     "text": [
      "1.21.5\n"
     ]
    }
   ],
   "source": [
    "# Write a Python program to print the NumPy version in your system.\n",
    "import numpy as np \n",
    "print(np.__version__)\n"
   ]
  },
  {
   "cell_type": "code",
   "execution_count": 2,
   "id": "7c77aaff",
   "metadata": {},
   "outputs": [
    {
     "name": "stdout",
     "output_type": "stream",
     "text": [
      "[17 15 11  9  7  6  5  3]\n"
     ]
    }
   ],
   "source": [
    "# Write a Python program to reverse an array (first element becomes last).\n",
    "import numpy as np\n",
    "arr=np.array([3,5,6,7,9,11,15,17])\n",
    "arr1=arr[::-1]\n",
    "print(arr1)"
   ]
  },
  {
   "cell_type": "code",
   "execution_count": 7,
   "id": "d635a26a",
   "metadata": {},
   "outputs": [
    {
     "name": "stdout",
     "output_type": "stream",
     "text": [
      "[ 3  5  6  7  9 11 15 17] <class 'numpy.ndarray'>\n",
      "[ 3  5  6  7  9 11 15 17] <class 'numpy.ndarray'>\n"
     ]
    }
   ],
   "source": [
    "# Write a Python program to convert a list and tuple into arrays. \n",
    "import numpy as np\n",
    "lst =[3,5,6,7,9,11,15,17]\n",
    "tup=(3,5,6,7,9,11,15,17)\n",
    "arr1=np.array(lst)\n",
    "arr2=np.array(tup)\n",
    "print(arr1,type(arr1))\n",
    "print(arr2,type(arr2))\n"
   ]
  },
  {
   "cell_type": "code",
   "execution_count": 10,
   "id": "4c298189",
   "metadata": {},
   "outputs": [
    {
     "name": "stdout",
     "output_type": "stream",
     "text": [
      "Common values in two arrays are :\n",
      "67\n",
      "89\n",
      "15\n"
     ]
    }
   ],
   "source": [
    "# Write a Python program to find common values between two arrays.\n",
    "import numpy as np\n",
    "arr1=np.array([22,13,4,5,67,89,13,15,70])\n",
    "arr2=np.array([1,15,34,23,67,89,12,61])\n",
    "print(\"Common values in two arrays are :\")\n",
    "for i in arr1:\n",
    "    if i in arr2:\n",
    "        print(i)"
   ]
  },
  {
   "cell_type": "code",
   "execution_count": 76,
   "id": "b167c6b6",
   "metadata": {},
   "outputs": [
    {
     "data": {
      "text/plain": [
       "False"
      ]
     },
     "execution_count": 76,
     "metadata": {},
     "output_type": "execute_result"
    }
   ],
   "source": [
    "# Write a Python program compare two arrays using numpy.\n",
    "a1=np.arange(0,9).reshape(3,3)\n",
    "a2=np.arange(0,9)\n",
    "np.array_equiv(a1,a2)"
   ]
  },
  {
   "cell_type": "code",
   "execution_count": 24,
   "id": "ed3e5718",
   "metadata": {},
   "outputs": [
    {
     "name": "stdout",
     "output_type": "stream",
     "text": [
      "[ 1  2  3  4  5  6  7  8  9 10 11 12] \n",
      "dimension is 1\n",
      "[[ 1  2  3  4]\n",
      " [ 5  6  7  8]\n",
      " [ 9 10 11 12]] \n",
      "dimension is 2\n"
     ]
    }
   ],
   "source": [
    "# Write a Python program to change the dimension of an array.\n",
    "import numpy as np\n",
    "arr=np.arange(1,13)\n",
    "print(arr,f'\\ndimension is {np.ndim(arr)}')\n",
    "arr1=np.reshape(arr,(3,4))\n",
    "print(arr1,f'\\ndimension is {np.ndim(arr1)}')"
   ]
  },
  {
   "cell_type": "code",
   "execution_count": 14,
   "id": "6199977f",
   "metadata": {},
   "outputs": [
    {
     "name": "stdout",
     "output_type": "stream",
     "text": [
      "2318\n"
     ]
    }
   ],
   "source": [
    "# Write a Python program (using numpy) to sum of all the multiples of 3 or 5 below 100.\n",
    "import numpy as np\n",
    "arr=np.arange(1,100)\n",
    "lst=[]\n",
    "for i in arr:\n",
    "    if i%3==0 or i%5==0:\n",
    "        lst.append(i)\n",
    "arr2=np.array(lst)\n",
    "print(sum(arr2))\n",
    "        "
   ]
  },
  {
   "cell_type": "code",
   "execution_count": 15,
   "id": "1eac3c3d",
   "metadata": {},
   "outputs": [
    {
     "name": "stdout",
     "output_type": "stream",
     "text": [
      "[1, 2, 3, 4, 5, 6, 7, 8, 9] <class 'list'>\n"
     ]
    }
   ],
   "source": [
    "# Write a Python program to convert a NumPy array into Python list structure. \n",
    "import numpy as np\n",
    "arr=np.arange(1,10)\n",
    "lst=[]\n",
    "for i in arr:\n",
    "    lst.append(i)\n",
    "\n",
    "print(lst,type(lst))"
   ]
  },
  {
   "cell_type": "code",
   "execution_count": 50,
   "id": "180f35e5",
   "metadata": {},
   "outputs": [
    {
     "name": "stdout",
     "output_type": "stream",
     "text": [
      "[[1 2 3 1]\n",
      " [2 4 5 3]]\n"
     ]
    }
   ],
   "source": [
    "# Write a Python program to how to add an extra column to a numpy array.\n",
    "import numpy as np\n",
    "arr=np.array([[1,2,3],\n",
    "            [2,4,5]])\n",
    "arr1=np.array([[1],[3]])\n",
    "print(np.concatenate((arr,arr1),axis=1))"
   ]
  },
  {
   "cell_type": "code",
   "execution_count": 1,
   "id": "8f13688b",
   "metadata": {},
   "outputs": [
    {
     "name": "stdout",
     "output_type": "stream",
     "text": [
      "its not an empty array\n"
     ]
    }
   ],
   "source": [
    "# Write a Python program to check whether the numpy array is empty or not\n",
    "import numpy as np\n",
    "arr=np.array([[1,2,3],\n",
    "            [2,4,5]])\n",
    "if len(arr)==0:\n",
    "    print('its an empty array')\n",
    "else:\n",
    "    print('its not an empty array')"
   ]
  },
  {
   "cell_type": "code",
   "execution_count": 17,
   "id": "01fe3a85",
   "metadata": {},
   "outputs": [
    {
     "name": "stdout",
     "output_type": "stream",
     "text": [
      "[[0.         0.33333333 0.66666667]\n",
      " [0.25       0.33333333 0.41666667]\n",
      " [0.28571429 0.33333333 0.38095238]]\n"
     ]
    }
   ],
   "source": [
    "# Write a Python program to normalize a 3x3 random matrix.\n",
    "import numpy as np\n",
    "arr=np.arange(0,36,4)\n",
    "arr1=arr.reshape((3,3))\n",
    "lst=[]\n",
    "for i in arr1:\n",
    "    total=0\n",
    "    for j in i:\n",
    "        total=total+j\n",
    "    a=i/(total)\n",
    "    lst.append(a)\n",
    "norm_arr1=np.array(lst)\n",
    "print(norm_arr1) # this is normalize by row side \n",
    "\n",
    "        \n",
    "    "
   ]
  },
  {
   "cell_type": "code",
   "execution_count": null,
   "id": "4d0cc48c",
   "metadata": {},
   "outputs": [],
   "source": [
    "# How to ignore all numpy warnings (not recommended)?"
   ]
  },
  {
   "cell_type": "code",
   "execution_count": 40,
   "id": "6e8daa3c",
   "metadata": {},
   "outputs": [
    {
     "name": "stdout",
     "output_type": "stream",
     "text": [
      "[[ 1  4  7]\n",
      " [10 13 16]\n",
      " [19 22 25]]\n",
      "\n",
      "after swaping\n",
      "[[ 1  4  7]\n",
      " [19 22 25]\n",
      " [10 13 16]]\n"
     ]
    }
   ],
   "source": [
    "# How to swap two rows of an array?\n",
    "arr=np.arange(1,27,3).reshape(3,3)\n",
    "print(arr)\n",
    "a=arr[1]\n",
    "b=arr[2]\n",
    "arr1=np.array((arr[0],b,a))\n",
    "print(f'\\nafter swaping\\n{arr1}')"
   ]
  },
  {
   "cell_type": "code",
   "execution_count": 59,
   "id": "4f737019",
   "metadata": {
    "scrolled": false
   },
   "outputs": [
    {
     "name": "stdout",
     "output_type": "stream",
     "text": [
      "[0.35872779 0.36129306 0.36819045 0.47647031 0.66266889 0.68551197\n",
      " 0.70310784 0.87987526 0.94546335 0.95067597]\n"
     ]
    }
   ],
   "source": [
    "# Python program to create a random vector of size 10 and sort it.\n",
    "arr=np.random.rand(10)\n",
    "print(np.sort(arr))"
   ]
  },
  {
   "cell_type": "code",
   "execution_count": 75,
   "id": "86faf267",
   "metadata": {},
   "outputs": [
    {
     "data": {
      "text/plain": [
       "False"
      ]
     },
     "execution_count": 75,
     "metadata": {},
     "output_type": "execute_result"
    }
   ],
   "source": [
    "# Write a Python program to check two random arrays are equal or not.\n",
    "a1=np.arange(0,9).reshape(3,3)\n",
    "a2=np.arange(10,19).reshape(3,3)\n",
    "np.array_equal(a1,a2)"
   ]
  },
  {
   "cell_type": "code",
   "execution_count": 65,
   "id": "ab794872",
   "metadata": {},
   "outputs": [
    {
     "name": "stdout",
     "output_type": "stream",
     "text": [
      "first matrix\n",
      "[[ 4  5  6]\n",
      " [ 7  8  9]\n",
      " [10 11 12]]\n",
      "second matrix\n",
      "[[24 26 28]\n",
      " [30 32 34]\n",
      " [36 38 40]]\n",
      "add\n",
      "[[28 31 34]\n",
      " [37 40 43]\n",
      " [46 49 52]]\n",
      "sbtract\n",
      "[[-20 -21 -22]\n",
      " [-23 -24 -25]\n",
      " [-26 -27 -28]]\n",
      "multifly\n",
      "[[ 96 130 168]\n",
      " [210 256 306]\n",
      " [360 418 480]]\n",
      "divide\n",
      "[[0.16666667 0.19230769 0.21428571]\n",
      " [0.23333333 0.25       0.26470588]\n",
      " [0.27777778 0.28947368 0.3       ]]\n"
     ]
    }
   ],
   "source": [
    "# Write a Python program to add, subtract, multiply, divide arguments element-wise.\n",
    "a=np.arange(4,13,1).reshape(3,3)\n",
    "print(f'first matrix\\n{a}')\n",
    "b=np.arange(24,42,2).reshape(3,3)\n",
    "print(f'second matrix\\n{b}')\n",
    "print(f'add\\n{a+b}')\n",
    "print(f'sbtract\\n{a-b}')\n",
    "print(f'multifly\\n{a*b}')\n",
    "print(f'divide\\n{a/b}')\n"
   ]
  },
  {
   "cell_type": "code",
   "execution_count": 68,
   "id": "adf952ed",
   "metadata": {},
   "outputs": [
    {
     "name": "stdout",
     "output_type": "stream",
     "text": [
      "today is 2022-06-25\n",
      "Yesterday is 2022-06-24\n",
      "tomorrow is 2022-06-26\n"
     ]
    }
   ],
   "source": [
    "# Write a Python program to get the dates of yesterday, today and tomorrow.\n",
    "today=np.datetime64('today')\n",
    "print(f'today is {today}')\n",
    "yesterday=np.datetime64('today')- np.timedelta64(1)\n",
    "print(f'Yesterday is {yesterday}')\n",
    "tom=np.datetime64('today')+ np.timedelta64(1)\n",
    "print(f'tomorrow is {tom}')"
   ]
  },
  {
   "cell_type": "code",
   "execution_count": null,
   "id": "d9d49c7a",
   "metadata": {},
   "outputs": [],
   "source": []
  }
 ],
 "metadata": {
  "kernelspec": {
   "display_name": "Python 3 (ipykernel)",
   "language": "python",
   "name": "python3"
  },
  "language_info": {
   "codemirror_mode": {
    "name": "ipython",
    "version": 3
   },
   "file_extension": ".py",
   "mimetype": "text/x-python",
   "name": "python",
   "nbconvert_exporter": "python",
   "pygments_lexer": "ipython3",
   "version": "3.9.12"
  }
 },
 "nbformat": 4,
 "nbformat_minor": 5
}
