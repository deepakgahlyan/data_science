{
 "cells": [
  {
   "cell_type": "code",
   "execution_count": 1,
   "id": "16b6e0ba",
   "metadata": {},
   "outputs": [
    {
     "name": "stdout",
     "output_type": "stream",
     "text": [
      "5\n",
      "Five\n"
     ]
    }
   ],
   "source": [
    "#  A P. which takes one number from 0 to 9 from the user and prints\n",
    "# it in the word. And if the word is not from 0 to 9 then\n",
    "# it should print that number is outside of the range and program should\n",
    "# exit.\n",
    "# For exapmple:-\n",
    "# input = 1\n",
    "# output = one\n",
    "a=int(input())\n",
    "if a==0:\n",
    "    print(\"Zero\")\n",
    "elif a==1:\n",
    "    print(\"One\")\n",
    "elif a==2:\n",
    "    print(\"Two\")\n",
    "elif a==3:\n",
    "    print(\"Three\")\n",
    "elif a==4:\n",
    "    print(\"four\")\n",
    "elif a==5:\n",
    "    print(\"Five\")\n",
    "elif a==6:\n",
    "    print(\"six\")    \n",
    "elif a==7:\n",
    "    print(\"seven\")  \n",
    "elif a==8:\n",
    "    print(\"Eight\")  \n",
    "elif a==9:\n",
    "    print(\"Nine\")\n",
    "else:\n",
    "    Print(\"number is outside the range\")"
   ]
  },
  {
   "cell_type": "code",
   "execution_count": 8,
   "id": "67d6cbe5",
   "metadata": {},
   "outputs": [
    {
     "name": "stdout",
     "output_type": "stream",
     "text": [
      "15\n",
      "12\n",
      "Enter you selection :2\n",
      "The subtraction of two number is : 3\n"
     ]
    }
   ],
   "source": [
    "# A P. to implement calculator but the operation to be done and two\n",
    "# numbers will be taken as input from user:-\n",
    "# Operation console should show below:-\n",
    "''' Please select any one operation from below:-\n",
    " * To add enter 1\n",
    " * to subtract enter 2\n",
    " * To multiply enter 3\n",
    " * To divide enter 4\n",
    " * To divide and find quotient enter 5\n",
    " * To divide and find remainder enter 6\n",
    " * To divide and find num1 to the power of num2 enter 7\n",
    "  * To Come out of the program enter 8'''\n",
    "a=int(input())\n",
    "b=int(input())\n",
    "select=int(input(\"Enter you selection :\"))\n",
    "if select==1:\n",
    "    print(\"The addition of two number is :\",a+b)\n",
    "elif select==2:\n",
    "    print(\"The subtraction of two number is :\",a-b) \n",
    "elif select==3:\n",
    "    print(\"The multiplication  of two number is :\",a*b)\n",
    "elif select==4:\n",
    "    print(\"The division of two number is :\",a/b) \n",
    "elif select==5:\n",
    "    print(\"The quoteint of two number is :\",a//b) \n",
    "elif select==6:\n",
    "    print(\"The remainder of two number is :\",a%b) \n",
    "elif select==7:\n",
    "    print(\"The num1 to the power num2 is :\",a**b)  \n"
   ]
  },
  {
   "cell_type": "code",
   "execution_count": 21,
   "id": "3955aec4",
   "metadata": {},
   "outputs": [
    {
     "name": "stdout",
     "output_type": "stream",
     "text": [
      "Enter the year  :1800\n",
      "1800 is not a leap year\n"
     ]
    }
   ],
   "source": [
    "# W A P to check whether a year entered by user is an leap year or not?\n",
    "# Check with below input:-\n",
    "#  leap year:- 2012, 1968, 2004, 1200, 1600,2400\n",
    "#  Non-lear year:- 1971, 2006, 1700,1800,1900\n",
    "\n",
    "year=int(input(\"Enter the year  :\"))\n",
    "if year%400==0 and year%100==0:\n",
    "    print(f'{year} is a leap year')\n",
    "elif year%100!=0 and year%4==0:\n",
    "     print(f'{year} is a leap year')\n",
    "else:\n",
    "     print(f'{year} is not a leap year')\n",
    "    \n",
    "    \n",
    "    \n"
   ]
  },
  {
   "cell_type": "code",
   "execution_count": 23,
   "id": "37c2898e",
   "metadata": {},
   "outputs": [
    {
     "name": "stdout",
     "output_type": "stream",
     "text": [
      "Enter the nuber  :25\n",
      "25 is Odd number\n"
     ]
    }
   ],
   "source": [
    "# P which takes one number from the user and checks whether it is\n",
    "# an even or odd number?, If it even then prints number is\n",
    "# even number else prints that number is odd number.\n",
    "\n",
    "num=int(input(\"Enter the number  :\"))\n",
    "if num%2==0:\n",
    "    print(f'{num} is Even number')\n",
    "else:\n",
    "    print(f'{num} is Odd number')\n",
    "    "
   ]
  },
  {
   "cell_type": "code",
   "execution_count": 26,
   "id": "8f15d905",
   "metadata": {},
   "outputs": [
    {
     "name": "stdout",
     "output_type": "stream",
     "text": [
      "Enter the first number  :22\n",
      "Enter the second number  :23\n",
      "22 is smaller than 23\n"
     ]
    }
   ],
   "source": [
    "# P which takes two numbers from the user and prints below output:-\n",
    "#  1. num1 is greater than num2 if num1 is greater than num2\n",
    "#  2. num1 is smaller than num2 if num1 is smaller than num2\n",
    "#  3. num1 is equal to num2 if num1 and num2 are equal\n",
    "\n",
    "num1=int(input(\"Enter the first number  :\"))\n",
    "num2=int(input(\"Enter the second number  :\"))\n",
    "if num1>num2:\n",
    "    print(f'{num1} is greater than {num2}')\n",
    "elif num1<num2:\n",
    "    print(f'{num1} is smaller than {num2}')\n",
    "else:\n",
    "    print(f'{num1} and {num2} are equal')\n",
    "\n",
    "\n"
   ]
  },
  {
   "cell_type": "code",
   "execution_count": 28,
   "id": "826c7907",
   "metadata": {},
   "outputs": [
    {
     "name": "stdout",
     "output_type": "stream",
     "text": [
      "Enter the first number  :12\n",
      "Enter the second number  :15\n",
      "Enter the third number  :28\n",
      "28 is greater than 12 and 15\n"
     ]
    }
   ],
   "source": [
    "# 1. num1 is greater than num2 and num3 if num1 is greater than num2\n",
    "# and num3\n",
    "#  2. num2 is greater than num1 and num3 if num2 is greater than num1\n",
    "# and num3\n",
    "# 3. num3 is greater than num1 and num2 if num3 is greater than num1\n",
    "# and num2\n",
    "num1=int(input(\"Enter the first number  :\"))\n",
    "num2=int(input(\"Enter the second number  :\"))\n",
    "num3=int(input(\"Enter the third number  :\"))\n",
    "if num1>num2 and num1>num3:\n",
    "    print(f'{num1} is greater than {num2} and {num3}')\n",
    "elif num2 >num3 and num2 >num1:\n",
    "    print(f'{num2} is greater than {num1} and {num3}')\n",
    "else:\n",
    "     print(f'{num3} is greater than {num1} and {num2}')\n",
    "\n"
   ]
  },
  {
   "cell_type": "code",
   "execution_count": 30,
   "id": "767dab9b",
   "metadata": {},
   "outputs": [
    {
     "name": "stdout",
     "output_type": "stream",
     "text": [
      "Write a Python program to find the length of the my_str\n",
      "Length of the string is 55\n"
     ]
    }
   ],
   "source": [
    "# Q. Write a Python program to find the length of the my_str using loop:-\n",
    "# Input:- 'Write a Python program to find the length of the my_str'\n",
    "# Output:- 55\n",
    "my_string = input()\n",
    "length=0\n",
    "for i in my_string:\n",
    "    length=length+1\n",
    "print(f\"Length of the string is {length}\")\n",
    "\n"
   ]
  },
  {
   "cell_type": "code",
   "execution_count": 33,
   "id": "5ff0c027",
   "metadata": {},
   "outputs": [
    {
     "name": "stdout",
     "output_type": "stream",
     "text": [
      "peter piper picked a peck of pickled peppers\n",
      "p will appear 9 times in this string \n"
     ]
    }
   ],
   "source": [
    "# Write a Python program to find the total number of times letter 'p'\n",
    "# is appeared in the below string using loop:-\n",
    "# Input:- 'peter piper picked a peck of pickled peppers.\\n'\n",
    "# Output:- 9\n",
    "my_string = input()\n",
    "count=0\n",
    "for i in my_string:\n",
    "    if i=='p':\n",
    "        count=count+1\n",
    "print(f\"p will appear {count} times in this string \")\n"
   ]
  },
  {
   "cell_type": "code",
   "execution_count": 35,
   "id": "24a70c12",
   "metadata": {},
   "outputs": [
    {
     "name": "stdout",
     "output_type": "stream",
     "text": [
      "peter piper picked a peck of pickled peppers\n",
      "0\n",
      "6\n",
      "8\n",
      "12\n",
      "21\n",
      "29\n",
      "37\n",
      "39\n",
      "40\n"
     ]
    }
   ],
   "source": [
    "\n",
    "#  Write a Python Program, to print all the indexes of all occurences of\n",
    "# letter 'p' appeared in the string using loop:-\n",
    "# Input:- 'peter piper picked a peck of pickled peppers.'\n",
    "# Output:-\n",
    "# 0\n",
    "# 6\n",
    "# 8\n",
    "# 12\n",
    "# 21\n",
    "# 29\n",
    "# 37\n",
    "# 39\n",
    "# 40\n",
    "\n",
    "my_string = input()\n",
    "count=0\n",
    "for i in my_string:\n",
    "    if i=='p':\n",
    "        print(count)\n",
    "    count=count+1    \n",
    "        \n"
   ]
  },
  {
   "cell_type": "code",
   "execution_count": 1,
   "id": "070f7d62",
   "metadata": {},
   "outputs": [
    {
     "name": "stdout",
     "output_type": "stream",
     "text": [
      "['peter', 'piper', 'picked', 'a', 'peck', 'of', 'pickled']\n"
     ]
    }
   ],
   "source": [
    "# Input:- 'peter piper picked a peck of pickled peppers.'\n",
    "# Output:- ['peter', 'piper', 'picked', 'a', 'peck', 'of', 'pickled',\n",
    "# 'peppers']\n",
    "str1='peter piper picked a peck of pickled peppers.'\n",
    "lst=[]\n",
    "str2=''\n",
    "for i in str1:\n",
    "    str2=str2+i\n",
    "    if i==' ':\n",
    "        lst.append(str2[0:len(str2)-1])\n",
    "        str2=''\n",
    "print(lst)          "
   ]
  },
  {
   "cell_type": "code",
   "execution_count": 19,
   "id": "6bd8b6d5",
   "metadata": {},
   "outputs": [
    {
     "name": "stdout",
     "output_type": "stream",
     "text": [
      " peppers. pickled of peck a picked piper peter"
     ]
    }
   ],
   "source": [
    "# Q. Write a python program to find below output using loop:-\n",
    "# Input:- 'peter piper picked a peck of pickled peppers.'\n",
    "# Output:- 'peppers. pickled of peck a picked piper peter'\n",
    "\n",
    "my_string = 'peter piper picked a peck of pickled peppers.'\n",
    "str1=' '\n",
    "for i in my_string.split():\n",
    "    for j in range(1,len(i)+1):\n",
    "        str1=str1+i[-j]\n",
    "    str1=str1+' '\n",
    "for k in range(1,len(str1)):\n",
    "    print(str1[-k],end='')\n",
    "\n",
    "    \n"
   ]
  },
  {
   "cell_type": "code",
   "execution_count": 13,
   "id": "da341446",
   "metadata": {},
   "outputs": [
    {
     "name": "stdout",
     "output_type": "stream",
     "text": [
      " retep repip dekcip a kcep fo delkcip .sreppep \n"
     ]
    }
   ],
   "source": [
    "# Q. Write a python program to find below output using loop:-\n",
    "# Input:- 'peter piper picked a peck of pickled peppers.'\n",
    "# Output:- 'retep repip dekcip a kcep fo delkcip sreppep'\n",
    "my_string = 'peter piper picked a peck of pickled peppers.'\n",
    "str1=' '\n",
    "for i in my_string.split():\n",
    "    for j in range(1,len(i)+1):\n",
    "        str1=str1+i[-j]\n",
    "    str1=str1+' '\n",
    "print(str1)\n",
    "    \n",
    "    "
   ]
  },
  {
   "cell_type": "code",
   "execution_count": 16,
   "id": "4b82bc7e",
   "metadata": {},
   "outputs": [
    {
     "name": "stdout",
     "output_type": "stream",
     "text": [
      ".sreppep delkcip fo kcep a dekcip repip retep"
     ]
    }
   ],
   "source": [
    "# Q. Write a python program to find below output using loop:-\n",
    "# Input:- 'peter piper picked a peck of pickled peppers.'\n",
    "# Output:- '.sreppep delkcip fo kcep a dekcip repip retep'\n",
    "\n",
    "my_string = 'peter piper picked a peck of pickled peppers.'\n",
    "for i in range(1,len(my_string)+1):\n",
    "    print(my_string[-i],end='')\n",
    "    "
   ]
  },
  {
   "cell_type": "code",
   "execution_count": 36,
   "id": "9212624c",
   "metadata": {},
   "outputs": [
    {
     "name": "stdout",
     "output_type": "stream",
     "text": [
      " Peter Piper Picked A Peck Of Pickled Peppers. \n"
     ]
    }
   ],
   "source": [
    "# Q. Write a python program to find below output using loop:-\n",
    "# Input:- 'peter piper picked a peck of pickled peppers.'\n",
    "# Output:- 'Peter Piper Picked A Peck Of Pickled Peppers'\n",
    "my_string = 'peter piper picked a peck of pickled peppers.'\n",
    "str1=' '\n",
    "for i in my_string.split():\n",
    "    for j in range(len(i)):\n",
    "        if j==0:\n",
    "            str1=str1 +i[j].upper()\n",
    "        else:\n",
    "            str1=str1+i[j]\n",
    "           \n",
    "    str1=str1 +' ' \n",
    "print(str1)    \n",
    "            \n",
    "            \n",
    "    \n",
    "    "
   ]
  },
  {
   "cell_type": "code",
   "execution_count": 41,
   "id": "5f7cc7ae",
   "metadata": {},
   "outputs": [
    {
     "name": "stdout",
     "output_type": "stream",
     "text": [
      " Peter piper picked a peck of pickled peppers.\n"
     ]
    }
   ],
   "source": [
    "# Q. Write a python program to find below output using loop:-\n",
    "# Input:- 'Peter Piper Picked A Peck Of Pickled Peppers.'\n",
    "# Output:- 'Peter piper picked a peck of pickled peppers'\n",
    "my_string = 'peter piper picked a peck of pickled peppers.'\n",
    "str1=' '\n",
    "for j in range(len(my_string)):\n",
    "        if j==0:\n",
    "            str1=str1 +my_string[j].upper()\n",
    "        else:\n",
    "            str1=str1+my_string[j]\n",
    "print(str1)                \n",
    "\n"
   ]
  },
  {
   "cell_type": "code",
   "execution_count": 10,
   "id": "6b010c72",
   "metadata": {},
   "outputs": [
    {
     "name": "stdout",
     "output_type": "stream",
     "text": [
      "29\n"
     ]
    }
   ],
   "source": [
    "# Q. Write a python program to implement index method using loop. If\n",
    "# sub_str is found in my_str then it will print the index\n",
    "# of first occurrence of first character of matching string in my_str:-\n",
    "# Input:- my_str = 'Peter Piper Picked A Peck Of Pickled Peppers.',\n",
    "# sub_str = 'Pickl'\n",
    "# Output:- 29\n",
    "my_str = 'Peter Piper Picked A Peck Of Pickled Peppers.'\n",
    "sub_str = 'Pickl'\n",
    "for i in range(len(my_str)-len(sub_str)+1):\n",
    "        if sub_str==my_str[i:i+len(sub_str)]:\n",
    "            print(i)\n",
    "        \n",
    "           \n",
    "        "
   ]
  },
  {
   "cell_type": "code",
   "execution_count": 36,
   "id": "e0819f5f",
   "metadata": {},
   "outputs": [
    {
     "name": "stdout",
     "output_type": "stream",
     "text": [
      "eter Piper Picked A Packeck Of Pickled Peppers."
     ]
    }
   ],
   "source": [
    "# Q. Write a python program to implement index method using loop. If\n",
    "# sub_str is found in my_str then it will print the new str\n",
    "# of first occurrence of first character of matching string in my_str:-\n",
    "# Input:- my_str = 'Peter Piper Picked A Peck Of Pickled Peppers.',\n",
    "# sub_str = 'Pickl' , new_str='Pack'\n",
    "my_str = 'Peter Piper Picked A Peck Of Pickled Peppers.'\n",
    "sub_str = 'Peck'\n",
    "new_str ='Pack'\n",
    "for i in range(len(my_str)):\n",
    "        if sub_str==my_str[i:i+len(sub_str)]:\n",
    "            k=i+j in range(0,len(sub_str))\n",
    "            print(new_str,end='')\n",
    "        else: \n",
    "            if i==k:\n",
    "                continue   \n",
    "            else:\n",
    "                print(my_str[i],end='')\n",
    "                    "
   ]
  },
  {
   "cell_type": "code",
   "execution_count": 2,
   "id": "7fa20cd3",
   "metadata": {},
   "outputs": [
    {
     "name": "stdout",
     "output_type": "stream",
     "text": [
      "*********************Peck********************"
     ]
    }
   ],
   "source": [
    "# Q. Write a python program to find below output (implements rjust and\n",
    "# ljust) using loop:-\n",
    "# Input:- 'Peter Piper Picked A Peck Of Pickled Peppers.', sub_str =\n",
    "# 'Peck',\n",
    "# Output:- '*********************Peck********************'\n",
    "my_str = 'Peter Piper Picked A Peck Of Pickled Peppers.'\n",
    "sub_str = 'Peck'\n",
    "for i in range(len(my_str)-len(sub_str)+1):\n",
    "    if sub_str==my_str[i:i+len(sub_str)]:\n",
    "        print(sub_str,end='')\n",
    "        \n",
    "    else:\n",
    "        str1='*'\n",
    "        print('*',end='')\n",
    "        \n"
   ]
  },
  {
   "cell_type": "code",
   "execution_count": 5,
   "id": "35dcf369",
   "metadata": {},
   "outputs": [
    {
     "data": {
      "text/plain": [
       "['This', ' Python class']"
      ]
     },
     "execution_count": 5,
     "metadata": {},
     "output_type": "execute_result"
    }
   ],
   "source": [
    "# Q. Write a python program to find below output using loop:-\n",
    "# Input:- 'This is Python class', sep = ' is',\n",
    "# Output:- ['This', 'is', 'Python class']\n",
    "my_str='This is Python class'\n",
    "sep= ' is'\n",
    "my_str.split(sep)\n",
    "    \n",
    "        \n",
    "    "
   ]
  },
  {
   "cell_type": "code",
   "execution_count": null,
   "id": "6c538a2f",
   "metadata": {},
   "outputs": [],
   "source": []
  }
 ],
 "metadata": {
  "kernelspec": {
   "display_name": "Python 3 (ipykernel)",
   "language": "python",
   "name": "python3"
  },
  "language_info": {
   "codemirror_mode": {
    "name": "ipython",
    "version": 3
   },
   "file_extension": ".py",
   "mimetype": "text/x-python",
   "name": "python",
   "nbconvert_exporter": "python",
   "pygments_lexer": "ipython3",
   "version": "3.9.12"
  }
 },
 "nbformat": 4,
 "nbformat_minor": 5
}
