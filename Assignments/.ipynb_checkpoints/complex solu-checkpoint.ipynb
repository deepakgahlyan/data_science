{
 "cells": [
  {
   "cell_type": "code",
   "execution_count": 1,
   "id": "54056184",
   "metadata": {},
   "outputs": [
    {
     "name": "stdout",
     "output_type": "stream",
     "text": [
      "<class 'complex'>\n",
      "2779515506160\n"
     ]
    }
   ],
   "source": [
    "# Declare a complex value and store it in a variable.\n",
    "#Check the type and print the id of the same.\n",
    "a=10 +20j\n",
    "print(type(a))\n",
    "print(id(a))"
   ]
  },
  {
   "cell_type": "code",
   "execution_count": 3,
   "id": "6d49005b",
   "metadata": {},
   "outputs": [
    {
     "name": "stdout",
     "output_type": "stream",
     "text": [
      "Enter the first number : 20+30j\n",
      "Enter the second numbef number : 10-30j\n",
      "Sum of these two is = (30+0j)\n",
      "Difference of these two is = (10+60j)\n",
      "Product of these two is = (1100-300j)\n",
      "Result after dividing first by second  = (-0.7000000000000001+0.8999999999999999j)\n",
      "Result after first is raised power by second  = (-2.2367230121403006e+28+7.773558650688078e+27j)\n"
     ]
    }
   ],
   "source": [
    "#Arithmetic Operations on complex\n",
    "a=complex(input(\"Enter the first number : \"))\n",
    "b=complex(input(\"Enter the second numbef number : \"))\n",
    "print(\"Sum of these two is =\",a+b)\n",
    "print(\"Difference of these two is =\",a-b)\n",
    "print(\"Product of these two is =\",a*b)\n",
    "print(\"Result after dividing first by second  =\",a/b)\n",
    "print(\"Result after first is raised power by second  =\",a**b)\n",
    "\n"
   ]
  },
  {
   "cell_type": "code",
   "execution_count": 4,
   "id": "91a5505e",
   "metadata": {},
   "outputs": [
    {
     "name": "stdout",
     "output_type": "stream",
     "text": [
      "Enter the first number : 20+30j\n",
      "Enter the second numbef number : 10-20j\n",
      "a is equal to b :  False\n",
      "a is not equal to b :  True\n"
     ]
    }
   ],
   "source": [
    "#Equality Operator\n",
    "#Observe the output(return type should be boolean)\n",
    "\n",
    "\n",
    "a=complex(input(\"Enter the first number : \"))\n",
    "b=complex(input(\"Enter the second numbef number : \"))\n",
    "print(\"a is equal to b : \",a==b)\n",
    "print(\"a is not equal to b : \",a!=b)"
   ]
  },
  {
   "cell_type": "code",
   "execution_count": 5,
   "id": "68dccf52",
   "metadata": {},
   "outputs": [
    {
     "name": "stdout",
     "output_type": "stream",
     "text": [
      "(20+30j)\n",
      "0j\n",
      "0j\n",
      "0j\n",
      "(10+20j)\n",
      "(20+30j)\n",
      "(20+30j)\n",
      "0j\n",
      "False\n",
      "True\n"
     ]
    }
   ],
   "source": [
    "print(10+20j and 20+30j) #20+30j\n",
    "# first is true so it will check and print second >Output is 20+30j\n",
    "print(0+0j and 20+30j) #0+0j\n",
    "# first is false so it will print first >Output is 0j\n",
    "print(20+30j and 0+0j) #0+0j\n",
    "# first is true so it will check and print second>Output is 0j\n",
    "print(0+0j and 0+0j) #0+0j\n",
    "# first is false  so it will print first >Output is 0j\n",
    "print(10+20j or 20+30j) #10+20j\n",
    "# as first is true so it won't check second and print first >Output is 10+20j\n",
    "print(0+0j or 20+30j) #20+30j\n",
    "# first is false so it will look for second and print it >Output is 20+30j\n",
    "print(20+30j or 0+0j) #20+30j\n",
    "#as first is true it will print first >Output is 20+30j\n",
    "print(0+0j or 0+0j) #0+0j\n",
    "# as first is false it will check second and print it ->Output is 0j\n",
    "print(not 10+20j) #False\n",
    "# not of true is false>Output is False\n",
    "print(not 0+0j) #True\n",
    "# not of false is true >Output is True"
   ]
  },
  {
   "cell_type": "code",
   "execution_count": 6,
   "id": "4a0ba5e2",
   "metadata": {},
   "outputs": [
    {
     "name": "stdout",
     "output_type": "stream",
     "text": [
      "False\n",
      "True\n"
     ]
    }
   ],
   "source": [
    "a = 10+20j\n",
    "b = 10+20j\n",
    "print(a is b) #False as complex do not have same id \n",
    "print(a is not b) #True as complex do not have same id "
   ]
  },
  {
   "cell_type": "code",
   "execution_count": 7,
   "id": "51e38890",
   "metadata": {},
   "outputs": [
    {
     "name": "stdout",
     "output_type": "stream",
     "text": [
      "True\n",
      "True\n",
      "True\n",
      "True\n",
      "True\n",
      "True\n"
     ]
    }
   ],
   "source": [
    "print('2.7' in 'Python2.7.8') #True\n",
    "print(10+20j in [10,10.20,10+20j,'Python']) #True\n",
    "print(10+20j in (10,10.20,10+20j,'Python')) #True\n",
    "print(30+40j in {1,20.30,30+40j}) #True\n",
    "print(30+40j in {1:100, 2.3:200, 30+40j:300}) #True\n",
    "print(10 in range(20)) #True"
   ]
  },
  {
   "cell_type": "code",
   "execution_count": null,
   "id": "97ad778e",
   "metadata": {},
   "outputs": [],
   "source": []
  },
  {
   "cell_type": "code",
   "execution_count": null,
   "id": "ccf1609a",
   "metadata": {},
   "outputs": [],
   "source": []
  }
 ],
 "metadata": {
  "kernelspec": {
   "display_name": "Python 3 (ipykernel)",
   "language": "python",
   "name": "python3"
  },
  "language_info": {
   "codemirror_mode": {
    "name": "ipython",
    "version": 3
   },
   "file_extension": ".py",
   "mimetype": "text/x-python",
   "name": "python",
   "nbconvert_exporter": "python",
   "pygments_lexer": "ipython3",
   "version": "3.9.12"
  }
 },
 "nbformat": 4,
 "nbformat_minor": 5
}
