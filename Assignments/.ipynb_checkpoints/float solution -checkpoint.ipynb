{
 "cells": [
  {
   "cell_type": "code",
   "execution_count": 1,
   "id": "2353f98d",
   "metadata": {},
   "outputs": [
    {
     "name": "stdout",
     "output_type": "stream",
     "text": [
      "<class 'float'>\n",
      "2757436287344\n"
     ]
    }
   ],
   "source": [
    "# Declare a float value and store it in a variable.\n",
    "#Check the type and print the id of the same.\n",
    "a=10.5\n",
    "print(type(a))\n",
    "print(id(a))"
   ]
  },
  {
   "cell_type": "code",
   "execution_count": 9,
   "id": "5551e96c",
   "metadata": {},
   "outputs": [
    {
     "name": "stdout",
     "output_type": "stream",
     "text": [
      "Enter the first number : 10.5\n",
      "Enter the second numbef number : 2.5\n",
      "Sum of these two is = 13.0\n",
      "Difference of these two is = 8.0\n",
      "Product of these two is = 26.25\n",
      "Result after dividing first by second  = 4.2\n",
      "Remainder after dividing first by second  is = 0.5\n",
      "Quotient after dividing first by second  is = 4.0\n",
      "Result after first is raised power by second  = 357.2508309997333\n"
     ]
    }
   ],
   "source": [
    "#Arithmetic Operations on floats\n",
    "a=float(input(\"Enter the first number : \"))\n",
    "b=float(input(\"Enter the second numbef number : \"))\n",
    "print(\"Sum of these two is =\",a+b)\n",
    "print(\"Difference of these two is =\",a-b)\n",
    "print(\"Product of these two is =\",a*b)\n",
    "print(\"Result after dividing first by second  =\",a/b)\n",
    "print(\"Remainder after dividing first by second  is =\",a%b)\n",
    "print(\"Quotient after dividing first by second  is =\",a//b)\n",
    "print(\"Result after first is raised power by second  =\",a**b)"
   ]
  },
  {
   "cell_type": "code",
   "execution_count": 3,
   "id": "d3c2dfce",
   "metadata": {},
   "outputs": [
    {
     "name": "stdout",
     "output_type": "stream",
     "text": [
      "Enter the first number : 10.5\n",
      "Enter the second numbef number : 2.5\n",
      "a is Greater than b :  True\n",
      "a is less than b :  False\n",
      "a is Greater than or equal to  b :  True\n",
      "a is less than or equal to  b :  False\n"
     ]
    }
   ],
   "source": [
    "#Comparison Operators on floats\n",
    "#Observe their output(return type should be boolean)\n",
    "\n",
    "a=float(input(\"Enter the first number : \"))\n",
    "b=float(input(\"Enter the second numbef number : \"))\n",
    "print(\"a is Greater than b : \",a>b)\n",
    "print(\"a is less than b : \",a<b)\n",
    "print(\"a is Greater than or equal to  b : \",a>=b)\n",
    "\n",
    "print(\"a is less than or equal to  b : \",a <=b)\n"
   ]
  },
  {
   "cell_type": "code",
   "execution_count": 4,
   "id": "dbf87dea",
   "metadata": {},
   "outputs": [
    {
     "name": "stdout",
     "output_type": "stream",
     "text": [
      "Enter the first number : 10.0\n",
      "Enter the second numbef number : 10.0\n",
      "a is equal to b :  True\n",
      "a is not equal to b :  False\n"
     ]
    }
   ],
   "source": [
    "#Equality Operator\n",
    "#Observe the output(return type should be boolean)\n",
    "\n",
    "\n",
    "a=float(input(\"Enter the first number : \"))\n",
    "b=float(input(\"Enter the second numbef number : \"))\n",
    "print(\"a is equal to b : \",a==b)\n",
    "print(\"a is not equal to b : \",a!=b)\n"
   ]
  },
  {
   "cell_type": "code",
   "execution_count": 5,
   "id": "213c4c29",
   "metadata": {},
   "outputs": [
    {
     "name": "stdout",
     "output_type": "stream",
     "text": [
      "20.3\n",
      "0.0\n",
      "0.0\n",
      "0.0\n",
      "10.2\n",
      "20.3\n",
      "20.3\n",
      "0.0\n",
      "False\n",
      "True\n"
     ]
    }
   ],
   "source": [
    "print(10.20 and 20.30) #both are true and second value taken >Output is 20.3\n",
    "print(0.0 and 20.30) #First is false so first valuetaken->Output is 0.0\n",
    "print(20.30 and 0.0) #Goes to till second and second value is false so second is taken>Output is 0.0\n",
    "print(0.0 and 0.0) #First is false so first value is taken->Output is 0.0\n",
    "print(10.20 or 20.30) #First is True so first value is taken>Output is 10.2\n",
    "print(0.0 or 20.30) #Goes to till second and second is true second value is taken->Output is 20.3\n",
    "print(20.30 or 0.0) #First is True so first value is taken->Output is 20.3\n",
    "print(0.0 or 0.0) #Goes to till second and second is also false and second value is taken>Output is 0.0\n",
    "print(not 10.20) #-Not of true is false->Output is False\n",
    "print(not 0.0) #Not of false is True>Output is True"
   ]
  },
  {
   "cell_type": "code",
   "execution_count": 6,
   "id": "0a78ce12",
   "metadata": {},
   "outputs": [
    {
     "name": "stdout",
     "output_type": "stream",
     "text": [
      "False\n",
      "True\n",
      "True\n",
      "False\n"
     ]
    }
   ],
   "source": [
    "a = 10.20\n",
    "b = 10.20\n",
    "c=a\n",
    "print(a is b) # False as floats do not have same id\n",
    "print(a is not b)#True as floats do not have same id\n",
    "print(a is  c)#True as c is assigned to the same memory address as a\n",
    "print(a is not c)# False as c is assigned to the same memory address as a"
   ]
  },
  {
   "cell_type": "code",
   "execution_count": 7,
   "id": "9d3cd770",
   "metadata": {},
   "outputs": [
    {
     "name": "stdout",
     "output_type": "stream",
     "text": [
      "True\n",
      "True\n",
      "True\n",
      "True\n",
      "True\n",
      "True\n"
     ]
    }
   ],
   "source": [
    "print('2.7' in 'Python2.7.8') #True as 2.7 is there in string \n",
    "print(10.20 in [10,10.20,10+20j,'Python']) #True 10.20 is there in list\n",
    "print(10.20 in (10,10.20,10+20j,'Python')) # True as 10.20 is there in tupple\n",
    "print(20.30 in {1,20.30,30+40j}) # True as 20.30 is there in set \n",
    "print(2.3 in {1:100, 2.3:200, 30+40j:300}) # True as 2.3 is key in dictionary \n",
    "print(10 in range(20)) # True as 10 is in range 0, 20 "
   ]
  },
  {
   "cell_type": "code",
   "execution_count": null,
   "id": "33b5a3bc",
   "metadata": {},
   "outputs": [],
   "source": []
  }
 ],
 "metadata": {
  "kernelspec": {
   "display_name": "Python 3 (ipykernel)",
   "language": "python",
   "name": "python3"
  },
  "language_info": {
   "codemirror_mode": {
    "name": "ipython",
    "version": 3
   },
   "file_extension": ".py",
   "mimetype": "text/x-python",
   "name": "python",
   "nbconvert_exporter": "python",
   "pygments_lexer": "ipython3",
   "version": "3.9.12"
  }
 },
 "nbformat": 4,
 "nbformat_minor": 5
}
