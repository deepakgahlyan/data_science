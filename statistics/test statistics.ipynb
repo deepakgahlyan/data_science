{
 "cells": [
  {
   "cell_type": "code",
   "execution_count": 2,
   "id": "bd1bdc6d",
   "metadata": {},
   "outputs": [],
   "source": [
    "from scipy.stats import ttest_1samp\n",
    "import numpy as np \n"
   ]
  },
  {
   "cell_type": "code",
   "execution_count": 3,
   "id": "49e51b28",
   "metadata": {},
   "outputs": [
    {
     "name": "stdout",
     "output_type": "stream",
     "text": [
      "Step1 : Hypothesis formulating  \n",
      "H0=22\n",
      "H1=/22\n",
      "mean=20.916666666666668\n",
      "sd(s)=7.8894268204702644\n",
      "test stat=-0.4554209413831043\n",
      "pvalue=0.3288322711690609\n"
     ]
    }
   ],
   "source": [
    "\n",
    "arr1=np.array([12,15,18,25,32,27,15,16,28,36,13,14])\n",
    "print('Step1 : Hypothesis formulating  ')\n",
    "print('H0=22')\n",
    "print('H1=/22')\n",
    "\n",
    "mean=arr1.mean()\n",
    "print(f'mean={mean}')\n",
    "s_d=arr1.std()\n",
    "print(f'sd(s)={s_d}')\n",
    "pop_mean =22\n",
    "testst,pvalue=ttest_1samp(arr1,pop_mean,alternative='less')\n",
    "print(f'test stat={testst}')\n",
    "print(f'pvalue={pvalue}')"
   ]
  },
  {
   "cell_type": "code",
   "execution_count": 6,
   "id": "74511818",
   "metadata": {},
   "outputs": [
    {
     "name": "stdout",
     "output_type": "stream",
     "text": [
      "mean=20.916666666666668\n",
      "sd(s)=7.8894268204702644\n",
      "test stat=-0.4554209413831043\n",
      "pvalue=0.3288322711690609\n"
     ]
    }
   ],
   "source": [
    "import scipy.stats as st\n",
    "arr1=np.array([12,15,18,25,32,27,15,16,28,36,13,14])\n",
    "mean=arr1.mean()\n",
    "print(f'mean={mean}')\n",
    "s_d=arr1.std()\n",
    "print(f'sd(s)={s_d}')\n",
    "pop_mean =22\n",
    "testst,pvalue=st.ttest_1samp(arr1,pop_mean,alternative='less')\n",
    "print(f'test stat={testst}')\n",
    "print(f'pvalue={pvalue}')\n"
   ]
  },
  {
   "cell_type": "code",
   "execution_count": 5,
   "id": "609135c9",
   "metadata": {},
   "outputs": [],
   "source": [
    "import  statsmodels.stats.weightstats as stw"
   ]
  },
  {
   "cell_type": "code",
   "execution_count": 27,
   "id": "3c02bffe",
   "metadata": {},
   "outputs": [
    {
     "name": "stdout",
     "output_type": "stream",
     "text": [
      "Help on function ttest_ind in module statsmodels.stats.weightstats:\n",
      "\n",
      "ttest_ind(x1, x2, alternative='two-sided', usevar='pooled', weights=(None, None), value=0)\n",
      "    ttest independent sample\n",
      "    \n",
      "    Convenience function that uses the classes and throws away the intermediate\n",
      "    results,\n",
      "    compared to scipy stats: drops axis option, adds alternative, usevar, and\n",
      "    weights option.\n",
      "    \n",
      "    Parameters\n",
      "    ----------\n",
      "    x1 : array_like, 1-D or 2-D\n",
      "        first of the two independent samples, see notes for 2-D case\n",
      "    x2 : array_like, 1-D or 2-D\n",
      "        second of the two independent samples, see notes for 2-D case\n",
      "    alternative : str\n",
      "        The alternative hypothesis, H1, has to be one of the following\n",
      "    \n",
      "           * 'two-sided' (default): H1: difference in means not equal to value\n",
      "           * 'larger' :   H1: difference in means larger than value\n",
      "           * 'smaller' :  H1: difference in means smaller than value\n",
      "    \n",
      "    usevar : str, 'pooled' or 'unequal'\n",
      "        If ``pooled``, then the standard deviation of the samples is assumed to be\n",
      "        the same. If ``unequal``, then Welch ttest with Satterthwait degrees\n",
      "        of freedom is used\n",
      "    weights : tuple of None or ndarrays\n",
      "        Case weights for the two samples. For details on weights see\n",
      "        ``DescrStatsW``\n",
      "    value : float\n",
      "        difference between the means under the Null hypothesis.\n",
      "    \n",
      "    \n",
      "    Returns\n",
      "    -------\n",
      "    tstat : float\n",
      "        test statistic\n",
      "    pvalue : float\n",
      "        pvalue of the t-test\n",
      "    df : int or float\n",
      "        degrees of freedom used in the t-test\n",
      "\n"
     ]
    }
   ],
   "source": [
    "help(stw.ttest_ind)"
   ]
  },
  {
   "cell_type": "code",
   "execution_count": 43,
   "id": "85250210",
   "metadata": {
    "scrolled": true
   },
   "outputs": [
    {
     "name": "stdout",
     "output_type": "stream",
     "text": [
      "mean=20.916666666666668\n",
      "sd(s)=7.8894268204702644\n",
      "test stat=-0.4554209413831043\n",
      "pvalue=0.32440321617415235\n"
     ]
    }
   ],
   "source": [
    "arr1=np.array([12,15,18,25,32,27,15,16,28,36,13,14])\n",
    "mean=arr1.mean()\n",
    "print(f'mean={mean}')\n",
    "s_d=arr1.std()\n",
    "print(f'sd(s)={s_d}')\n",
    "pop_mean =22\n",
    "testst,pvalue=stw.ztest(arr1,value=pop_mean,alternative='smaller')\n",
    "print(f'test stat={testst}')\n",
    "print(f'pvalue={pvalue}')"
   ]
  },
  {
   "cell_type": "code",
   "execution_count": 51,
   "id": "68eff5cd",
   "metadata": {
    "scrolled": true
   },
   "outputs": [
    {
     "name": "stdout",
     "output_type": "stream",
     "text": [
      "mean=20.916666666666668\n",
      "sd(s)=7.8894268204702644\n",
      "test stat=-0.4554209413831043\n",
      "pvalue=0.6576645423381208\n"
     ]
    }
   ],
   "source": [
    "arr1=np.array([12,15,18,25,32,27,15,16,28,36,13,14])\n",
    "mean=arr1.mean()\n",
    "print(f'mean={mean}')\n",
    "s_d=arr1.std()\n",
    "print(f'sd(s)={s_d}')\n",
    "pop_mean =22\n",
    "altern='less'\n",
    "testst,pvalue=st.ttest_1samp(arr1,pop_mean,)\n",
    "if altern=='less':\n",
    "    \n",
    "print(f'test stat={testst}')\n",
    "print(f'pvalue={pvalue}')"
   ]
  },
  {
   "cell_type": "code",
   "execution_count": 10,
   "id": "f90ab51b",
   "metadata": {},
   "outputs": [
    {
     "data": {
      "text/plain": [
       "['anagrams',\n",
       " 'anscombe',\n",
       " 'attention',\n",
       " 'brain_networks',\n",
       " 'car_crashes',\n",
       " 'diamonds',\n",
       " 'dots',\n",
       " 'exercise',\n",
       " 'flights',\n",
       " 'fmri',\n",
       " 'gammas',\n",
       " 'geyser',\n",
       " 'iris',\n",
       " 'mpg',\n",
       " 'penguins',\n",
       " 'planets',\n",
       " 'taxis',\n",
       " 'tips',\n",
       " 'titanic']"
      ]
     },
     "execution_count": 10,
     "metadata": {},
     "output_type": "execute_result"
    }
   ],
   "source": [
    "import seaborn as sns \n",
    "import matplotlib.pyplot as plt\n",
    "import pandas as pd\n",
    "\n",
    "sns.get_dataset_names()"
   ]
  },
  {
   "cell_type": "code",
   "execution_count": 11,
   "id": "2ee7b28b",
   "metadata": {},
   "outputs": [],
   "source": [
    "data=sns.load_dataset('mpg')"
   ]
  },
  {
   "cell_type": "code",
   "execution_count": 12,
   "id": "2e79d420",
   "metadata": {},
   "outputs": [],
   "source": [
    "df=pd.DataFrame(data)"
   ]
  },
  {
   "cell_type": "code",
   "execution_count": 13,
   "id": "8bd003e6",
   "metadata": {},
   "outputs": [
    {
     "data": {
      "text/html": [
       "<div>\n",
       "<style scoped>\n",
       "    .dataframe tbody tr th:only-of-type {\n",
       "        vertical-align: middle;\n",
       "    }\n",
       "\n",
       "    .dataframe tbody tr th {\n",
       "        vertical-align: top;\n",
       "    }\n",
       "\n",
       "    .dataframe thead th {\n",
       "        text-align: right;\n",
       "    }\n",
       "</style>\n",
       "<table border=\"1\" class=\"dataframe\">\n",
       "  <thead>\n",
       "    <tr style=\"text-align: right;\">\n",
       "      <th></th>\n",
       "      <th>mpg</th>\n",
       "      <th>cylinders</th>\n",
       "      <th>displacement</th>\n",
       "      <th>horsepower</th>\n",
       "      <th>weight</th>\n",
       "      <th>acceleration</th>\n",
       "      <th>model_year</th>\n",
       "      <th>origin</th>\n",
       "      <th>name</th>\n",
       "    </tr>\n",
       "  </thead>\n",
       "  <tbody>\n",
       "    <tr>\n",
       "      <th>0</th>\n",
       "      <td>18.0</td>\n",
       "      <td>8</td>\n",
       "      <td>307.0</td>\n",
       "      <td>130.0</td>\n",
       "      <td>3504</td>\n",
       "      <td>12.0</td>\n",
       "      <td>70</td>\n",
       "      <td>usa</td>\n",
       "      <td>chevrolet chevelle malibu</td>\n",
       "    </tr>\n",
       "    <tr>\n",
       "      <th>1</th>\n",
       "      <td>15.0</td>\n",
       "      <td>8</td>\n",
       "      <td>350.0</td>\n",
       "      <td>165.0</td>\n",
       "      <td>3693</td>\n",
       "      <td>11.5</td>\n",
       "      <td>70</td>\n",
       "      <td>usa</td>\n",
       "      <td>buick skylark 320</td>\n",
       "    </tr>\n",
       "    <tr>\n",
       "      <th>2</th>\n",
       "      <td>18.0</td>\n",
       "      <td>8</td>\n",
       "      <td>318.0</td>\n",
       "      <td>150.0</td>\n",
       "      <td>3436</td>\n",
       "      <td>11.0</td>\n",
       "      <td>70</td>\n",
       "      <td>usa</td>\n",
       "      <td>plymouth satellite</td>\n",
       "    </tr>\n",
       "    <tr>\n",
       "      <th>3</th>\n",
       "      <td>16.0</td>\n",
       "      <td>8</td>\n",
       "      <td>304.0</td>\n",
       "      <td>150.0</td>\n",
       "      <td>3433</td>\n",
       "      <td>12.0</td>\n",
       "      <td>70</td>\n",
       "      <td>usa</td>\n",
       "      <td>amc rebel sst</td>\n",
       "    </tr>\n",
       "    <tr>\n",
       "      <th>4</th>\n",
       "      <td>17.0</td>\n",
       "      <td>8</td>\n",
       "      <td>302.0</td>\n",
       "      <td>140.0</td>\n",
       "      <td>3449</td>\n",
       "      <td>10.5</td>\n",
       "      <td>70</td>\n",
       "      <td>usa</td>\n",
       "      <td>ford torino</td>\n",
       "    </tr>\n",
       "    <tr>\n",
       "      <th>...</th>\n",
       "      <td>...</td>\n",
       "      <td>...</td>\n",
       "      <td>...</td>\n",
       "      <td>...</td>\n",
       "      <td>...</td>\n",
       "      <td>...</td>\n",
       "      <td>...</td>\n",
       "      <td>...</td>\n",
       "      <td>...</td>\n",
       "    </tr>\n",
       "    <tr>\n",
       "      <th>393</th>\n",
       "      <td>27.0</td>\n",
       "      <td>4</td>\n",
       "      <td>140.0</td>\n",
       "      <td>86.0</td>\n",
       "      <td>2790</td>\n",
       "      <td>15.6</td>\n",
       "      <td>82</td>\n",
       "      <td>usa</td>\n",
       "      <td>ford mustang gl</td>\n",
       "    </tr>\n",
       "    <tr>\n",
       "      <th>394</th>\n",
       "      <td>44.0</td>\n",
       "      <td>4</td>\n",
       "      <td>97.0</td>\n",
       "      <td>52.0</td>\n",
       "      <td>2130</td>\n",
       "      <td>24.6</td>\n",
       "      <td>82</td>\n",
       "      <td>europe</td>\n",
       "      <td>vw pickup</td>\n",
       "    </tr>\n",
       "    <tr>\n",
       "      <th>395</th>\n",
       "      <td>32.0</td>\n",
       "      <td>4</td>\n",
       "      <td>135.0</td>\n",
       "      <td>84.0</td>\n",
       "      <td>2295</td>\n",
       "      <td>11.6</td>\n",
       "      <td>82</td>\n",
       "      <td>usa</td>\n",
       "      <td>dodge rampage</td>\n",
       "    </tr>\n",
       "    <tr>\n",
       "      <th>396</th>\n",
       "      <td>28.0</td>\n",
       "      <td>4</td>\n",
       "      <td>120.0</td>\n",
       "      <td>79.0</td>\n",
       "      <td>2625</td>\n",
       "      <td>18.6</td>\n",
       "      <td>82</td>\n",
       "      <td>usa</td>\n",
       "      <td>ford ranger</td>\n",
       "    </tr>\n",
       "    <tr>\n",
       "      <th>397</th>\n",
       "      <td>31.0</td>\n",
       "      <td>4</td>\n",
       "      <td>119.0</td>\n",
       "      <td>82.0</td>\n",
       "      <td>2720</td>\n",
       "      <td>19.4</td>\n",
       "      <td>82</td>\n",
       "      <td>usa</td>\n",
       "      <td>chevy s-10</td>\n",
       "    </tr>\n",
       "  </tbody>\n",
       "</table>\n",
       "<p>398 rows × 9 columns</p>\n",
       "</div>"
      ],
      "text/plain": [
       "      mpg  cylinders  displacement  horsepower  weight  acceleration  \\\n",
       "0    18.0          8         307.0       130.0    3504          12.0   \n",
       "1    15.0          8         350.0       165.0    3693          11.5   \n",
       "2    18.0          8         318.0       150.0    3436          11.0   \n",
       "3    16.0          8         304.0       150.0    3433          12.0   \n",
       "4    17.0          8         302.0       140.0    3449          10.5   \n",
       "..    ...        ...           ...         ...     ...           ...   \n",
       "393  27.0          4         140.0        86.0    2790          15.6   \n",
       "394  44.0          4          97.0        52.0    2130          24.6   \n",
       "395  32.0          4         135.0        84.0    2295          11.6   \n",
       "396  28.0          4         120.0        79.0    2625          18.6   \n",
       "397  31.0          4         119.0        82.0    2720          19.4   \n",
       "\n",
       "     model_year  origin                       name  \n",
       "0            70     usa  chevrolet chevelle malibu  \n",
       "1            70     usa          buick skylark 320  \n",
       "2            70     usa         plymouth satellite  \n",
       "3            70     usa              amc rebel sst  \n",
       "4            70     usa                ford torino  \n",
       "..          ...     ...                        ...  \n",
       "393          82     usa            ford mustang gl  \n",
       "394          82  europe                  vw pickup  \n",
       "395          82     usa              dodge rampage  \n",
       "396          82     usa                ford ranger  \n",
       "397          82     usa                 chevy s-10  \n",
       "\n",
       "[398 rows x 9 columns]"
      ]
     },
     "execution_count": 13,
     "metadata": {},
     "output_type": "execute_result"
    }
   ],
   "source": [
    "df"
   ]
  },
  {
   "cell_type": "code",
   "execution_count": 14,
   "id": "02689461",
   "metadata": {},
   "outputs": [
    {
     "name": "stdout",
     "output_type": "stream",
     "text": [
      "<class 'pandas.core.frame.DataFrame'>\n",
      "RangeIndex: 398 entries, 0 to 397\n",
      "Data columns (total 9 columns):\n",
      " #   Column        Non-Null Count  Dtype  \n",
      "---  ------        --------------  -----  \n",
      " 0   mpg           398 non-null    float64\n",
      " 1   cylinders     398 non-null    int64  \n",
      " 2   displacement  398 non-null    float64\n",
      " 3   horsepower    392 non-null    float64\n",
      " 4   weight        398 non-null    int64  \n",
      " 5   acceleration  398 non-null    float64\n",
      " 6   model_year    398 non-null    int64  \n",
      " 7   origin        398 non-null    object \n",
      " 8   name          398 non-null    object \n",
      "dtypes: float64(4), int64(3), object(2)\n",
      "memory usage: 28.1+ KB\n"
     ]
    }
   ],
   "source": [
    "df.info()"
   ]
  },
  {
   "cell_type": "code",
   "execution_count": 15,
   "id": "f6d3fab3",
   "metadata": {},
   "outputs": [
    {
     "data": {
      "text/html": [
       "<div>\n",
       "<style scoped>\n",
       "    .dataframe tbody tr th:only-of-type {\n",
       "        vertical-align: middle;\n",
       "    }\n",
       "\n",
       "    .dataframe tbody tr th {\n",
       "        vertical-align: top;\n",
       "    }\n",
       "\n",
       "    .dataframe thead th {\n",
       "        text-align: right;\n",
       "    }\n",
       "</style>\n",
       "<table border=\"1\" class=\"dataframe\">\n",
       "  <thead>\n",
       "    <tr style=\"text-align: right;\">\n",
       "      <th></th>\n",
       "      <th>mpg</th>\n",
       "      <th>cylinders</th>\n",
       "      <th>displacement</th>\n",
       "      <th>horsepower</th>\n",
       "      <th>weight</th>\n",
       "      <th>acceleration</th>\n",
       "      <th>model_year</th>\n",
       "    </tr>\n",
       "  </thead>\n",
       "  <tbody>\n",
       "    <tr>\n",
       "      <th>count</th>\n",
       "      <td>398.000000</td>\n",
       "      <td>398.000000</td>\n",
       "      <td>398.000000</td>\n",
       "      <td>392.000000</td>\n",
       "      <td>398.000000</td>\n",
       "      <td>398.000000</td>\n",
       "      <td>398.000000</td>\n",
       "    </tr>\n",
       "    <tr>\n",
       "      <th>mean</th>\n",
       "      <td>23.514573</td>\n",
       "      <td>5.454774</td>\n",
       "      <td>193.425879</td>\n",
       "      <td>104.469388</td>\n",
       "      <td>2970.424623</td>\n",
       "      <td>15.568090</td>\n",
       "      <td>76.010050</td>\n",
       "    </tr>\n",
       "    <tr>\n",
       "      <th>std</th>\n",
       "      <td>7.815984</td>\n",
       "      <td>1.701004</td>\n",
       "      <td>104.269838</td>\n",
       "      <td>38.491160</td>\n",
       "      <td>846.841774</td>\n",
       "      <td>2.757689</td>\n",
       "      <td>3.697627</td>\n",
       "    </tr>\n",
       "    <tr>\n",
       "      <th>min</th>\n",
       "      <td>9.000000</td>\n",
       "      <td>3.000000</td>\n",
       "      <td>68.000000</td>\n",
       "      <td>46.000000</td>\n",
       "      <td>1613.000000</td>\n",
       "      <td>8.000000</td>\n",
       "      <td>70.000000</td>\n",
       "    </tr>\n",
       "    <tr>\n",
       "      <th>25%</th>\n",
       "      <td>17.500000</td>\n",
       "      <td>4.000000</td>\n",
       "      <td>104.250000</td>\n",
       "      <td>75.000000</td>\n",
       "      <td>2223.750000</td>\n",
       "      <td>13.825000</td>\n",
       "      <td>73.000000</td>\n",
       "    </tr>\n",
       "    <tr>\n",
       "      <th>50%</th>\n",
       "      <td>23.000000</td>\n",
       "      <td>4.000000</td>\n",
       "      <td>148.500000</td>\n",
       "      <td>93.500000</td>\n",
       "      <td>2803.500000</td>\n",
       "      <td>15.500000</td>\n",
       "      <td>76.000000</td>\n",
       "    </tr>\n",
       "    <tr>\n",
       "      <th>75%</th>\n",
       "      <td>29.000000</td>\n",
       "      <td>8.000000</td>\n",
       "      <td>262.000000</td>\n",
       "      <td>126.000000</td>\n",
       "      <td>3608.000000</td>\n",
       "      <td>17.175000</td>\n",
       "      <td>79.000000</td>\n",
       "    </tr>\n",
       "    <tr>\n",
       "      <th>max</th>\n",
       "      <td>46.600000</td>\n",
       "      <td>8.000000</td>\n",
       "      <td>455.000000</td>\n",
       "      <td>230.000000</td>\n",
       "      <td>5140.000000</td>\n",
       "      <td>24.800000</td>\n",
       "      <td>82.000000</td>\n",
       "    </tr>\n",
       "  </tbody>\n",
       "</table>\n",
       "</div>"
      ],
      "text/plain": [
       "              mpg   cylinders  displacement  horsepower       weight  \\\n",
       "count  398.000000  398.000000    398.000000  392.000000   398.000000   \n",
       "mean    23.514573    5.454774    193.425879  104.469388  2970.424623   \n",
       "std      7.815984    1.701004    104.269838   38.491160   846.841774   \n",
       "min      9.000000    3.000000     68.000000   46.000000  1613.000000   \n",
       "25%     17.500000    4.000000    104.250000   75.000000  2223.750000   \n",
       "50%     23.000000    4.000000    148.500000   93.500000  2803.500000   \n",
       "75%     29.000000    8.000000    262.000000  126.000000  3608.000000   \n",
       "max     46.600000    8.000000    455.000000  230.000000  5140.000000   \n",
       "\n",
       "       acceleration  model_year  \n",
       "count    398.000000  398.000000  \n",
       "mean      15.568090   76.010050  \n",
       "std        2.757689    3.697627  \n",
       "min        8.000000   70.000000  \n",
       "25%       13.825000   73.000000  \n",
       "50%       15.500000   76.000000  \n",
       "75%       17.175000   79.000000  \n",
       "max       24.800000   82.000000  "
      ]
     },
     "execution_count": 15,
     "metadata": {},
     "output_type": "execute_result"
    }
   ],
   "source": [
    "df.describe() # clearly here horsepower has 6 null valuve so we can fill with mean horsepower\n"
   ]
  },
  {
   "cell_type": "code",
   "execution_count": 16,
   "id": "b39b9d63",
   "metadata": {},
   "outputs": [],
   "source": [
    "df_new=df.fillna(df.horsepower.mean())"
   ]
  },
  {
   "cell_type": "code",
   "execution_count": 17,
   "id": "9de993ee",
   "metadata": {},
   "outputs": [
    {
     "data": {
      "text/html": [
       "<div>\n",
       "<style scoped>\n",
       "    .dataframe tbody tr th:only-of-type {\n",
       "        vertical-align: middle;\n",
       "    }\n",
       "\n",
       "    .dataframe tbody tr th {\n",
       "        vertical-align: top;\n",
       "    }\n",
       "\n",
       "    .dataframe thead th {\n",
       "        text-align: right;\n",
       "    }\n",
       "</style>\n",
       "<table border=\"1\" class=\"dataframe\">\n",
       "  <thead>\n",
       "    <tr style=\"text-align: right;\">\n",
       "      <th></th>\n",
       "      <th>mpg</th>\n",
       "      <th>cylinders</th>\n",
       "      <th>displacement</th>\n",
       "      <th>horsepower</th>\n",
       "      <th>weight</th>\n",
       "      <th>acceleration</th>\n",
       "      <th>model_year</th>\n",
       "    </tr>\n",
       "  </thead>\n",
       "  <tbody>\n",
       "    <tr>\n",
       "      <th>count</th>\n",
       "      <td>398.000000</td>\n",
       "      <td>398.000000</td>\n",
       "      <td>398.000000</td>\n",
       "      <td>398.000000</td>\n",
       "      <td>398.000000</td>\n",
       "      <td>398.000000</td>\n",
       "      <td>398.000000</td>\n",
       "    </tr>\n",
       "    <tr>\n",
       "      <th>mean</th>\n",
       "      <td>23.514573</td>\n",
       "      <td>5.454774</td>\n",
       "      <td>193.425879</td>\n",
       "      <td>104.469388</td>\n",
       "      <td>2970.424623</td>\n",
       "      <td>15.568090</td>\n",
       "      <td>76.010050</td>\n",
       "    </tr>\n",
       "    <tr>\n",
       "      <th>std</th>\n",
       "      <td>7.815984</td>\n",
       "      <td>1.701004</td>\n",
       "      <td>104.269838</td>\n",
       "      <td>38.199187</td>\n",
       "      <td>846.841774</td>\n",
       "      <td>2.757689</td>\n",
       "      <td>3.697627</td>\n",
       "    </tr>\n",
       "    <tr>\n",
       "      <th>min</th>\n",
       "      <td>9.000000</td>\n",
       "      <td>3.000000</td>\n",
       "      <td>68.000000</td>\n",
       "      <td>46.000000</td>\n",
       "      <td>1613.000000</td>\n",
       "      <td>8.000000</td>\n",
       "      <td>70.000000</td>\n",
       "    </tr>\n",
       "    <tr>\n",
       "      <th>25%</th>\n",
       "      <td>17.500000</td>\n",
       "      <td>4.000000</td>\n",
       "      <td>104.250000</td>\n",
       "      <td>76.000000</td>\n",
       "      <td>2223.750000</td>\n",
       "      <td>13.825000</td>\n",
       "      <td>73.000000</td>\n",
       "    </tr>\n",
       "    <tr>\n",
       "      <th>50%</th>\n",
       "      <td>23.000000</td>\n",
       "      <td>4.000000</td>\n",
       "      <td>148.500000</td>\n",
       "      <td>95.000000</td>\n",
       "      <td>2803.500000</td>\n",
       "      <td>15.500000</td>\n",
       "      <td>76.000000</td>\n",
       "    </tr>\n",
       "    <tr>\n",
       "      <th>75%</th>\n",
       "      <td>29.000000</td>\n",
       "      <td>8.000000</td>\n",
       "      <td>262.000000</td>\n",
       "      <td>125.000000</td>\n",
       "      <td>3608.000000</td>\n",
       "      <td>17.175000</td>\n",
       "      <td>79.000000</td>\n",
       "    </tr>\n",
       "    <tr>\n",
       "      <th>max</th>\n",
       "      <td>46.600000</td>\n",
       "      <td>8.000000</td>\n",
       "      <td>455.000000</td>\n",
       "      <td>230.000000</td>\n",
       "      <td>5140.000000</td>\n",
       "      <td>24.800000</td>\n",
       "      <td>82.000000</td>\n",
       "    </tr>\n",
       "  </tbody>\n",
       "</table>\n",
       "</div>"
      ],
      "text/plain": [
       "              mpg   cylinders  displacement  horsepower       weight  \\\n",
       "count  398.000000  398.000000    398.000000  398.000000   398.000000   \n",
       "mean    23.514573    5.454774    193.425879  104.469388  2970.424623   \n",
       "std      7.815984    1.701004    104.269838   38.199187   846.841774   \n",
       "min      9.000000    3.000000     68.000000   46.000000  1613.000000   \n",
       "25%     17.500000    4.000000    104.250000   76.000000  2223.750000   \n",
       "50%     23.000000    4.000000    148.500000   95.000000  2803.500000   \n",
       "75%     29.000000    8.000000    262.000000  125.000000  3608.000000   \n",
       "max     46.600000    8.000000    455.000000  230.000000  5140.000000   \n",
       "\n",
       "       acceleration  model_year  \n",
       "count    398.000000  398.000000  \n",
       "mean      15.568090   76.010050  \n",
       "std        2.757689    3.697627  \n",
       "min        8.000000   70.000000  \n",
       "25%       13.825000   73.000000  \n",
       "50%       15.500000   76.000000  \n",
       "75%       17.175000   79.000000  \n",
       "max       24.800000   82.000000  "
      ]
     },
     "execution_count": 17,
     "metadata": {},
     "output_type": "execute_result"
    }
   ],
   "source": [
    "df_new.describe()"
   ]
  },
  {
   "cell_type": "code",
   "execution_count": 18,
   "id": "f1dd8fc7",
   "metadata": {},
   "outputs": [
    {
     "data": {
      "text/plain": [
       "array([70, 71, 72, 73, 74, 75, 76, 77, 78, 79, 80, 81, 82], dtype=int64)"
      ]
     },
     "execution_count": 18,
     "metadata": {},
     "output_type": "execute_result"
    }
   ],
   "source": [
    "df['model_year'].unique()"
   ]
  },
  {
   "cell_type": "code",
   "execution_count": 28,
   "id": "3e7331a2",
   "metadata": {},
   "outputs": [
    {
     "data": {
      "text/plain": [
       "<AxesSubplot:xlabel='model_year', ylabel='mpg'>"
      ]
     },
     "execution_count": 28,
     "metadata": {},
     "output_type": "execute_result"
    },
    {
     "data": {
      "image/png": "[encoded data removed]",
      "text/plain": [
       "<Figure size 1152x576 with 1 Axes>"
      ]
     },
     "metadata": {
      "needs_background": "light"
     },
     "output_type": "display_data"
    }
   ],
   "source": [
    "plt.figure(figsize=(16,8))\n",
    "sns.barplot(x='model_year',y='mpg',hue='cylinders' ,data=df_new)"
   ]
  },
  {
   "cell_type": "code",
   "execution_count": 36,
   "id": "8aede32b",
   "metadata": {},
   "outputs": [],
   "source": [
    "#now we want to check if there is difference in mileage of model more than 75  and model less than equal to 75 \n",
    "model1=df_new[df_new['model_year']<=75]\n",
    "model2=df_new[df_new['model_year']>75]"
   ]
  },
  {
   "cell_type": "code",
   "execution_count": 53,
   "id": "362696d0",
   "metadata": {},
   "outputs": [
    {
     "data": {
      "text/plain": [
       "array([18., 15., 18., 16., 17., 15., 14., 14., 14., 15., 15., 14., 15.,\n",
       "       14., 24., 22., 18., 21., 27., 26., 25., 24., 25., 26., 21., 10.,\n",
       "       10., 11.,  9., 27., 28., 25., 25., 19., 16., 17., 19., 18., 14.,\n",
       "       14., 14., 14., 12., 13., 13., 18., 22., 19., 18., 23., 28., 30.,\n",
       "       30., 31., 35., 27., 26., 24., 25., 23., 20., 21., 13., 14., 15.,\n",
       "       14., 17., 11., 13., 12., 13., 19., 15., 13., 13., 14., 18., 22.,\n",
       "       21., 26., 22., 28., 23., 28., 27., 13., 14., 13., 14., 15., 12.,\n",
       "       13., 13., 14., 13., 12., 13., 18., 16., 18., 18., 23., 26., 11.,\n",
       "       12., 13., 12., 18., 20., 21., 22., 18., 19., 21., 26., 15., 16.,\n",
       "       29., 24., 20., 19., 15., 24., 20., 11., 20., 21., 19., 15., 31.,\n",
       "       26., 32., 25., 16., 16., 18., 16., 13., 14., 14., 14., 29., 26.,\n",
       "       26., 31., 32., 28., 24., 26., 24., 26., 31., 19., 18., 15., 15.,\n",
       "       16., 15., 16., 14., 17., 16., 15., 18., 21., 20., 13., 29., 23.,\n",
       "       20., 23., 24., 25., 24., 18., 29., 19., 23., 23., 22., 25., 33.])"
      ]
     },
     "execution_count": 53,
     "metadata": {},
     "output_type": "execute_result"
    }
   ],
   "source": [
    "data_1=model1.mpg.values\n",
    "data_1"
   ]
  },
  {
   "cell_type": "code",
   "execution_count": 54,
   "id": "8a728b0b",
   "metadata": {},
   "outputs": [
    {
     "data": {
      "text/plain": [
       "array([28. , 25. , 25. , 26. , 27. , 17.5, 16. , 15.5, 14.5, 22. , 22. ,\n",
       "       24. , 22.5, 29. , 24.5, 29. , 33. , 20. , 18. , 18.5, 17.5, 29.5,\n",
       "       32. , 28. , 26.5, 20. , 13. , 19. , 19. , 16.5, 16.5, 13. , 13. ,\n",
       "       13. , 31.5, 30. , 36. , 25.5, 33.5, 17.5, 17. , 15.5, 15. , 17.5,\n",
       "       20.5, 19. , 18.5, 16. , 15.5, 15.5, 16. , 29. , 24.5, 26. , 25.5,\n",
       "       30.5, 33.5, 30. , 30.5, 22. , 21.5, 21.5, 43.1, 36.1, 32.8, 39.4,\n",
       "       36.1, 19.9, 19.4, 20.2, 19.2, 20.5, 20.2, 25.1, 20.5, 19.4, 20.6,\n",
       "       20.8, 18.6, 18.1, 19.2, 17.7, 18.1, 17.5, 30. , 27.5, 27.2, 30.9,\n",
       "       21.1, 23.2, 23.8, 23.9, 20.3, 17. , 21.6, 16.2, 31.5, 29.5, 21.5,\n",
       "       19.8, 22.3, 20.2, 20.6, 17. , 17.6, 16.5, 18.2, 16.9, 15.5, 19.2,\n",
       "       18.5, 31.9, 34.1, 35.7, 27.4, 25.4, 23. , 27.2, 23.9, 34.2, 34.5,\n",
       "       31.8, 37.3, 28.4, 28.8, 26.8, 33.5, 41.5, 38.1, 32.1, 37.2, 28. ,\n",
       "       26.4, 24.3, 19.1, 34.3, 29.8, 31.3, 37. , 32.2, 46.6, 27.9, 40.8,\n",
       "       44.3, 43.4, 36.4, 30. , 44.6, 40.9, 33.8, 29.8, 32.7, 23.7, 35. ,\n",
       "       23.6, 32.4, 27.2, 26.6, 25.8, 23.5, 30. , 39.1, 39. , 35.1, 32.3,\n",
       "       37. , 37.7, 34.1, 34.7, 34.4, 29.9, 33. , 34.5, 33.7, 32.4, 32.9,\n",
       "       31.6, 28.1, 30.7, 25.4, 24.2, 22.4, 26.6, 20.2, 17.6, 28. , 27. ,\n",
       "       34. , 31. , 29. , 27. , 24. , 23. , 36. , 37. , 31. , 38. , 36. ,\n",
       "       36. , 36. , 34. , 38. , 32. , 38. , 25. , 38. , 26. , 22. , 32. ,\n",
       "       36. , 27. , 27. , 44. , 32. , 28. , 31. ])"
      ]
     },
     "execution_count": 54,
     "metadata": {},
     "output_type": "execute_result"
    }
   ],
   "source": [
    "data_2=model2.mpg.values\n",
    "data_2"
   ]
  },
  {
   "cell_type": "code",
   "execution_count": 55,
   "id": "2ff141cb",
   "metadata": {},
   "outputs": [
    {
     "name": "stdout",
     "output_type": "stream",
     "text": [
      "Test staistics =-10.883134974892469\n",
      "P-value =2.612696407715333e-24\n",
      "we reject the null hypothesis\n",
      "we conclude that they do not  have same mileage\n"
     ]
    }
   ],
   "source": [
    "tstat,pvalue=st.ttest_ind(data_1,data_2,alternative='two-sided')\n",
    "print(f'Test staistics ={tstat}')\n",
    "print(f'P-value ={pvalue}')\n",
    "if pvalue<=0.05:\n",
    "    print('we reject the null hypothesis\\nwe conclude that they do not  have same mileage')\n",
    "else:\n",
    "    print('we fail to  reject the null hypothesis\\n we conclude that they have same mileage')\n",
    "    "
   ]
  },
  {
   "cell_type": "code",
   "execution_count": null,
   "id": "635132ff",
   "metadata": {},
   "outputs": [],
   "source": [
    "# same we can do with annova \n",
    "# we can take more than two model year and check if their mileage changed or not , even for horse power or high speed \n"
   ]
  },
  {
   "cell_type": "code",
   "execution_count": 49,
   "id": "42e4ed09",
   "metadata": {},
   "outputs": [],
   "source": [
    "# here i want to find out the mean mileage for model year 80,81,82\n",
    "data1=df_new[df_new['model_year']==82].mpg.values\n",
    "data2=df_new[df_new['model_year']==81].mpg.values\n",
    "data3=df_new[df_new['model_year']==80].mpg.values"
   ]
  },
  {
   "cell_type": "code",
   "execution_count": 52,
   "id": "67363b4b",
   "metadata": {},
   "outputs": [
    {
     "name": "stdout",
     "output_type": "stream",
     "text": [
      "Test staistics =2.2742024968228245\n",
      "P-value =0.10903321147405393\n",
      "we fail to  reject the null hypothesis\n",
      "we conclude that they have same mileage\n"
     ]
    }
   ],
   "source": [
    "fstat,pvalue=st.f_oneway(data1,data2,data3)\n",
    "print(f'Test staistics ={fstat}')\n",
    "print(f'P-value ={pvalue}')\n",
    "if pvalue<=0.05:\n",
    "    print('we reject the null hypothesis\\nwe conclude that they do not  have same mileage')\n",
    "else:\n",
    "    print('we fail to  reject the null hypothesis\\nwe conclude that they have same mileage')"
   ]
  },
  {
   "cell_type": "code",
   "execution_count": 56,
   "id": "790905b3",
   "metadata": {},
   "outputs": [
    {
     "name": "stdout",
     "output_type": "stream",
     "text": [
      "Test staistics =-10.883134974892469\n",
      "P-value =1.3870881177591374e-27\n",
      "we reject the null hypothesis\n",
      "we conclude that they do not  have same mileage\n"
     ]
    }
   ],
   "source": [
    "# for z test between mileage difference of model less than equal to 75 and more than 75 \n",
    "zstat,pvalue=stw.ztest(data_1,data_2,alternative='two-sided')\n",
    "print(f'Test staistics ={zstat}')\n",
    "print(f'P-value ={pvalue}')\n",
    "if pvalue<=0.05:\n",
    "    print('we reject the null hypothesis\\nwe conclude that they do not  have same mileage')\n",
    "else:\n",
    "    print('we fail to  reject the null hypothesis\\n we conclude that they have same mileage')\n",
    "    "
   ]
  },
  {
   "cell_type": "code",
   "execution_count": null,
   "id": "c1dbff00",
   "metadata": {},
   "outputs": [],
   "source": []
  },
  {
   "cell_type": "code",
   "execution_count": null,
   "id": "d07929f4",
   "metadata": {},
   "outputs": [],
   "source": []
  },
  {
   "cell_type": "code",
   "execution_count": null,
   "id": "5d446e08",
   "metadata": {},
   "outputs": [],
   "source": [
    "\n"
   ]
  }
 ],
 "metadata": {
  "kernelspec": {
   "display_name": "Python 3 (ipykernel)",
   "language": "python",
   "name": "python3"
  },
  "language_info": {
   "codemirror_mode": {
    "name": "ipython",
    "version": 3
   },
   "file_extension": ".py",
   "mimetype": "text/x-python",
   "name": "python",
   "nbconvert_exporter": "python",
   "pygments_lexer": "ipython3",
   "version": "3.9.12"
  }
 },
 "nbformat": 4,
 "nbformat_minor": 5
}
