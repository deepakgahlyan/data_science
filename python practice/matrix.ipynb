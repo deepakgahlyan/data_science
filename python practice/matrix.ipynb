{
 "cells": [
  {
   "cell_type": "code",
   "execution_count": 20,
   "id": "42cadc96",
   "metadata": {},
   "outputs": [
    {
     "name": "stdout",
     "output_type": "stream",
     "text": [
      "martrix one is:\n",
      "[1, 4, 7]\n",
      "[5, 3, 8]\n",
      "[8, 7, 5]\n",
      "martrix one is:\n",
      "[5, 3, 6]\n",
      "[5, 9, 17]\n",
      "[18, 12, 5]\n",
      "the addition of these matrix:\n",
      "[6, 7, 13]\n",
      "[10, 12, 25]\n",
      "[26, 19, 10]\n"
     ]
    }
   ],
   "source": [
    "# addition of matrix\n",
    "x=[[1,4,7],[5,3,8],[8,7,5]]\n",
    "print(\"martrix one is:\")\n",
    "for m_1 in x:\n",
    "    print(m_1)\n",
    "y=[[5,3,6],[5,9,17],[18,12,5]]\n",
    "print(\"martrix one is:\")\n",
    "for m_2 in y:\n",
    "    print(m_2)\n",
    "#making loop for addition \n",
    "z=[[0,0,0],[0,0,0],[0,0,0]]\n",
    "for i in range(len(x)):\n",
    "    for j in range(len(x)):\n",
    "        z[i][j]=x[i][j]+y[i][j]\n",
    "print(\"the addition of these matrix:\")\n",
    "for r in z:\n",
    "    print(r)\n",
    "  \n",
    "        "
   ]
  },
  {
   "cell_type": "code",
   "execution_count": 21,
   "id": "3fe799ba",
   "metadata": {},
   "outputs": [
    {
     "name": "stdout",
     "output_type": "stream",
     "text": [
      "martrix one is:\n",
      "[1, 4, 7]\n",
      "[5, 3, 8]\n",
      "[8, 7, 5]\n",
      "martrix one is:\n",
      "[5, 3, 6]\n",
      "[5, 9, 17]\n",
      "[18, 12, 5]\n",
      "the multiplication of these matrix:\n",
      "[151, 123, 109]\n",
      "[184, 138, 121]\n",
      "[165, 147, 192]\n"
     ]
    }
   ],
   "source": [
    "# multiplication  of matrix\n",
    "x=[[1,4,7],[5,3,8],[8,7,5]]\n",
    "print(\"martrix one is:\")\n",
    "for m_1 in x:\n",
    "    print(m_1)\n",
    "y=[[5,3,6],[5,9,17],[18,12,5]]\n",
    "print(\"martrix one is:\")\n",
    "for m_2 in y:\n",
    "    print(m_2)\n",
    "#making loop for addition \n",
    "z=[[0,0,0],[0,0,0],[0,0,0]]\n",
    "for i in range(len(x)):\n",
    "    for j in range(len(y)):\n",
    "         for k in range(len(y)):\n",
    "                z[i][j]+=x[i][k]*y[k][j]\n",
    "print(\"the multiplication of these matrix:\")\n",
    "for r in z:\n",
    "    print(r)"
   ]
  },
  {
   "cell_type": "code",
   "execution_count": 26,
   "id": "4af97655",
   "metadata": {},
   "outputs": [
    {
     "name": "stdout",
     "output_type": "stream",
     "text": [
      "martrix one is:\n",
      "[1, 4, 7]\n",
      "[5, 3, 8]\n",
      "[8, 7, 5]\n",
      "transpose if matrix is :\n",
      "[1, 5, 8]\n",
      "[4, 3, 7]\n",
      "[7, 8, 5]\n"
     ]
    }
   ],
   "source": [
    "#transpose of a mtrix \n",
    "x=[[1,4,7],[5,3,8],[8,7,5]]\n",
    "print(\"martrix one is:\")\n",
    "for m_1 in x:\n",
    "    print(m_1)\n",
    "for i in range(len(x)):\n",
    "    for j in range(len(x)):\n",
    "        y[j][i]=x[i][j]\n",
    "print(\"transpose if matrix is :\")\n",
    "for r in y:\n",
    "    print(r)\n",
    "    "
   ]
  },
  {
   "cell_type": "code",
   "execution_count": null,
   "id": "ff0e5f4a",
   "metadata": {},
   "outputs": [],
   "source": []
  },
  {
   "cell_type": "code",
   "execution_count": null,
   "id": "9cf3fa67",
   "metadata": {},
   "outputs": [],
   "source": []
  },
  {
   "cell_type": "code",
   "execution_count": null,
   "id": "32d500ff",
   "metadata": {},
   "outputs": [],
   "source": []
  },
  {
   "cell_type": "code",
   "execution_count": null,
   "id": "aafb6c38",
   "metadata": {},
   "outputs": [],
   "source": []
  },
  {
   "cell_type": "code",
   "execution_count": null,
   "id": "29320db5",
   "metadata": {},
   "outputs": [],
   "source": []
  },
  {
   "cell_type": "code",
   "execution_count": null,
   "id": "2bece858",
   "metadata": {},
   "outputs": [],
   "source": []
  },
  {
   "cell_type": "code",
   "execution_count": null,
   "id": "20f2191a",
   "metadata": {},
   "outputs": [],
   "source": []
  }
 ],
 "metadata": {
  "kernelspec": {
   "display_name": "Python 3 (ipykernel)",
   "language": "python",
   "name": "python3"
  },
  "language_info": {
   "codemirror_mode": {
    "name": "ipython",
    "version": 3
   },
   "file_extension": ".py",
   "mimetype": "text/x-python",
   "name": "python",
   "nbconvert_exporter": "python",
   "pygments_lexer": "ipython3",
   "version": "3.9.12"
  }
 },
 "nbformat": 4,
 "nbformat_minor": 5
}
