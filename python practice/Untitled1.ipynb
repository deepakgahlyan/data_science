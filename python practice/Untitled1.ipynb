{
 "cells": [
  {
   "cell_type": "code",
   "execution_count": 3,
   "id": "3a44f7a0",
   "metadata": {},
   "outputs": [
    {
     "name": "stdout",
     "output_type": "stream",
     "text": [
      "GFG\n"
     ]
    }
   ],
   "source": [
    "# Input: Computer Science Engineering\n",
    "\n",
    "# Output: CSE\n",
    "\n",
    "# Input: geeks for geeks\n",
    "\n",
    "# Output: GFG\n",
    "\n",
    "# Input: Uttar pradesh\n",
    "\n",
    "# Output: UP\n",
    "str1='geeks for geeks'\n",
    "out=''\n",
    "for i in str1.split():\n",
    "    out=out+i[0].upper()\n",
    "print(out)"
   ]
  },
  {
   "cell_type": "code",
   "execution_count": 10,
   "id": "7a7daf32",
   "metadata": {},
   "outputs": [
    {
     "name": "stdout",
     "output_type": "stream",
     "text": [
      "[['G', 'e', 'e', 'k', 's', 'f', 'o'], ['r', 'G', 'e', 'e', 'k', 's', ' ']]\n"
     ]
    }
   ],
   "source": [
    "test_str = 'GeeksforGeeks '\n",
    "k=7\n",
    "n=int(len(test_str)/k)\n",
    "lst1=[]\n",
    "count=0\n",
    "for j in range(n):\n",
    "    lst=[]\n",
    "    for i in range(k*j,k*(j+1)):\n",
    "        lst.append(test_str[i])\n",
    "    lst1.append(lst)\n",
    "print(lst1)\n",
    "    \n",
    "    "
   ]
  },
  {
   "cell_type": "code",
   "execution_count": 38,
   "id": "85a62964",
   "metadata": {},
   "outputs": [
    {
     "name": "stdout",
     "output_type": "stream",
     "text": [
      "[3, 3, 3, 3, 4, 2, 6, 9]\n",
      "[3, 3, 3, 3, 4, 2, 6, 9]\n"
     ]
    }
   ],
   "source": [
    "# Input : test_list = [3, 4, 6, 8, 4, 2, 6, 9], K = 4, N = 3 \n",
    "# Output : [3, 3, 3, 3, 4, 2, 6, 9] \n",
    "test_list = [3, 4, 6, 8, 4, 2, 6, 9] \n",
    "k = 4\n",
    "N = 3 \n",
    "for i in range(0,k):\n",
    "    test_list.pop(i)\n",
    "    test_list.insert(i,N)\n",
    "print(test_list)\n",
    "# or \n",
    "for i in range(0,k):\n",
    "    test_list[i]=N\n",
    "print(test_list)"
   ]
  },
  {
   "cell_type": "code",
   "execution_count": 44,
   "id": "88ce6642",
   "metadata": {},
   "outputs": [
    {
     "name": "stdout",
     "output_type": "stream",
     "text": [
      "['gf4g', 'gee1ks']\n"
     ]
    }
   ],
   "source": [
    "# Input : test_list = [‘gf4g’, ‘is’, ‘best’, ‘gee1ks’] \n",
    "# Output : [‘gf4g’, ‘gee1ks’] \n",
    "test_list = ['gf4g', 'is', 'best', 'gee1ks'] \n",
    "lst=[]\n",
    "for i in test_list:\n",
    "    for j in i:\n",
    "        if j.isdigit():\n",
    "            lst.append(i)\n",
    "        else:\n",
    "            continue\n",
    "print(lst)"
   ]
  },
  {
   "cell_type": "code",
   "execution_count": 45,
   "id": "2da88a33",
   "metadata": {},
   "outputs": [
    {
     "name": "stdout",
     "output_type": "stream",
     "text": [
      "[24, 35, 9, 56, 12]\n"
     ]
    }
   ],
   "source": [
    "# Input : [12, 35, 9, 56, 24]\n",
    "# Output : [24, 35, 9, 56, 12]\n",
    "lst=[12, 35, 9, 56, 24]\n",
    "a=lst[0]\n",
    "b=lst[-1]\n",
    "lst[0]=b\n",
    "lst[-1]=a\n",
    "print(lst)\n"
   ]
  },
  {
   "cell_type": "code",
   "execution_count": null,
   "id": "c97212a7",
   "metadata": {},
   "outputs": [],
   "source": []
  },
  {
   "cell_type": "code",
   "execution_count": null,
   "id": "72fd4825",
   "metadata": {},
   "outputs": [],
   "source": []
  }
 ],
 "metadata": {
  "kernelspec": {
   "display_name": "Python 3 (ipykernel)",
   "language": "python",
   "name": "python3"
  },
  "language_info": {
   "codemirror_mode": {
    "name": "ipython",
    "version": 3
   },
   "file_extension": ".py",
   "mimetype": "text/x-python",
   "name": "python",
   "nbconvert_exporter": "python",
   "pygments_lexer": "ipython3",
   "version": "3.9.12"
  }
 },
 "nbformat": 4,
 "nbformat_minor": 5
}
