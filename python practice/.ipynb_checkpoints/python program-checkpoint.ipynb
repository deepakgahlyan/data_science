{
 "cells": [
  {
   "cell_type": "code",
   "execution_count": 1,
   "id": "4d5f82ee",
   "metadata": {},
   "outputs": [
    {
     "name": "stdout",
     "output_type": "stream",
     "text": [
      "this is how you call a function:\n"
     ]
    }
   ],
   "source": [
    "def deepak():\n",
    "    print(\"this is how you call a function:\")\n",
    "deepak()"
   ]
  },
  {
   "cell_type": "code",
   "execution_count": 31,
   "id": "f69dcc03",
   "metadata": {},
   "outputs": [
    {
     "name": "stdout",
     "output_type": "stream",
     "text": [
      "your average is : 15.0\n",
      "your grade is: D\n"
     ]
    }
   ],
   "source": [
    "def average(marks):\n",
    "    total= sum(marks)\n",
    "    length=len(marks)\n",
    "    avg=total/length\n",
    "    print(\"your average is :\",avg)\n",
    "\n",
    "    if avg >80:\n",
    "        grade='A'\n",
    "    elif avg> 60:\n",
    "        grade='B'\n",
    "    elif avg> 50:\n",
    "        grade='C' \n",
    "    else:\n",
    "        grade='D' \n",
    "    print(\"your grade is:\", grade)    \n",
    "marks=[10,15,14,16,20]\n",
    "        \n",
    "average(marks)    \n"
   ]
  },
  {
   "cell_type": "code",
   "execution_count": 11,
   "id": "8851b9a0",
   "metadata": {},
   "outputs": [
    {
     "name": "stdout",
     "output_type": "stream",
     "text": [
      "your average marks are : 15.0\n"
     ]
    }
   ],
   "source": [
    "def average(marks):\n",
    "    total= sum(marks)\n",
    "    length=len(marks)\n",
    "    avg=total/length\n",
    "    return avg\n",
    "\n",
    "\n",
    "marks=[10,15,14,16,20]\n",
    "avg= average(marks)\n",
    "print(\"your average marks are :\",avg)"
   ]
  },
  {
   "cell_type": "code",
   "execution_count": 12,
   "id": "a7a8537f",
   "metadata": {},
   "outputs": [
    {
     "name": "stdout",
     "output_type": "stream",
     "text": [
      "your average marks are : 15.0\n",
      "your grade is : D\n"
     ]
    }
   ],
   "source": [
    "def average(marks):\n",
    "    total= sum(marks)\n",
    "    length=len(marks)\n",
    "    avg=total/length\n",
    "    return avg\n",
    "# grade using return function\n",
    "def your_grade(avg):\n",
    "    if avg >80:\n",
    "        grade='A'\n",
    "    elif avg> 60:\n",
    "        grade='B'\n",
    "    elif avg> 50:\n",
    "        grade='C' \n",
    "    else:\n",
    "        grade='D'\n",
    "    return grade     \n",
    "marks=[10,15,14,16,20]\n",
    "avg= average(marks)\n",
    "print(\"your average marks are :\",avg)\n",
    "grade=your_grade(avg)\n",
    "print(\"your grade is :\",grade)"
   ]
  },
  {
   "cell_type": "code",
   "execution_count": 18,
   "id": "c3d56eb9",
   "metadata": {},
   "outputs": [
    {
     "name": "stdout",
     "output_type": "stream",
     "text": [
      "Enter the numbers marks : 15 25 25 35 45 \n",
      "your average marks are : 29.0\n",
      "your grade is : D\n"
     ]
    }
   ],
   "source": [
    "def average(marks):\n",
    "    total= sum(marks)\n",
    "    length=len(marks)\n",
    "    avg=total/length\n",
    "    return avg\n",
    "# grade using return function\n",
    "def your_grade(avg):\n",
    "    if avg >80:\n",
    "        grade='A'\n",
    "    elif avg> 60:\n",
    "        grade='B'\n",
    "    elif avg> 50:\n",
    "        grade='C' \n",
    "    else:\n",
    "        grade='D'\n",
    "    return grade     \n",
    "marks = list(map(int,input(\"Enter the numbers marks : \").split()))\n",
    "avg= average(marks)\n",
    "print(\"your average marks are :\",avg)\n",
    "grade=your_grade(avg)\n",
    "print(\"your grade is :\",grade)"
   ]
  },
  {
   "cell_type": "code",
   "execution_count": 2,
   "id": "08876898",
   "metadata": {},
   "outputs": [
    {
     "name": "stdout",
     "output_type": "stream",
     "text": [
      "enter number_1 =12\n",
      "enter number_2 =15\n",
      "the sum of two numbers : 27\n",
      "The multiplication of two numbers: 180\n"
     ]
    }
   ],
   "source": [
    "def add_numbers(n1,n2):\n",
    "    add=n1+n2\n",
    "    return add\n",
    "def mul_number(n1,n2):\n",
    "    mul=n1 * n2\n",
    "    return mul\n",
    "\n",
    "num1=int(input(\"enter number_1 =\"))\n",
    "num2=int(input(\"enter number_2 =\"))\n",
    "\n",
    "print(\"the sum of two numbers :\",add_numbers(num1,num2))\n",
    "\n",
    "print(\"The multiplication of two numbers:\",mul_number(num1,num2))\n",
    "     \n",
    "    \n",
    "    "
   ]
  },
  {
   "cell_type": "code",
   "execution_count": 7,
   "id": "ba544c5b",
   "metadata": {},
   "outputs": [
    {
     "name": "stdout",
     "output_type": "stream",
     "text": [
      "enter the 1st number:289\n",
      "289 is a not a prime number\n",
      "289 is 17 x 17\n"
     ]
    }
   ],
   "source": [
    "# finding number is prime or not \n",
    "num_1=int(input(\"enter the 1st number:\"))\n",
    "for i in range(2 , num_1):\n",
    "    if(num_1%i==0):\n",
    "        print(num_1,\"is a not a prime number\")\n",
    "        print(num_1, \"is\", num_1//i,\"x\",i)\n",
    "        break\n",
    "else:\n",
    "    print(num_1,\"is a prime number\")"
   ]
  },
  {
   "cell_type": "code",
   "execution_count": 9,
   "id": "1c96df24",
   "metadata": {},
   "outputs": [
    {
     "name": "stdout",
     "output_type": "stream",
     "text": [
      "enter the 1st number:10\n",
      "3628800 is factorial of 10\n"
     ]
    }
   ],
   "source": [
    "#factorial of a number:\n",
    "num_1=int(input(\"enter the 1st number:\"))\n",
    "factorial=1\n",
    "for i in range(1 , num_1+1):\n",
    "    factorial=factorial*i\n",
    "print(factorial,\"is factorial of\",num_1)"
   ]
  },
  {
   "cell_type": "code",
   "execution_count": 1,
   "id": "6f35b286",
   "metadata": {},
   "outputs": [
    {
     "name": "stdout",
     "output_type": "stream",
     "text": [
      "enter the range upto which you want the priume number:38\n",
      "the prime numbers are \n",
      "2 3 5 7 11 13 17 19 23 29 31 37 "
     ]
    }
   ],
   "source": [
    "#prime numbers within some range\n",
    "num_1=int(input(\"enter the range upto which you want the priume number:\"))\n",
    "num=2\n",
    "print(\"the prime numbers are \")\n",
    "while(num<= num_1):\n",
    "    \n",
    "    for i in range(2,num):\n",
    "        if(num%i==0):\n",
    "            break\n",
    "    else:\n",
    "        print(num,end=\" \")\n",
    "    num=num+1\n",
    "        "
   ]
  },
  {
   "cell_type": "code",
   "execution_count": null,
   "id": "eb73c524",
   "metadata": {},
   "outputs": [],
   "source": []
  },
  {
   "cell_type": "code",
   "execution_count": null,
   "id": "15199f6b",
   "metadata": {},
   "outputs": [],
   "source": []
  },
  {
   "cell_type": "code",
   "execution_count": null,
   "id": "e12caaf2",
   "metadata": {},
   "outputs": [],
   "source": []
  }
 ],
 "metadata": {
  "kernelspec": {
   "display_name": "Python 3 (ipykernel)",
   "language": "python",
   "name": "python3"
  },
  "language_info": {
   "codemirror_mode": {
    "name": "ipython",
    "version": 3
   },
   "file_extension": ".py",
   "mimetype": "text/x-python",
   "name": "python",
   "nbconvert_exporter": "python",
   "pygments_lexer": "ipython3",
   "version": "3.9.12"
  }
 },
 "nbformat": 4,
 "nbformat_minor": 5
}
