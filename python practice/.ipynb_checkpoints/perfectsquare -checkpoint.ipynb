{
 "cells": [
  {
   "cell_type": "code",
   "execution_count": 1,
   "id": "b4ce9297",
   "metadata": {},
   "outputs": [
    {
     "name": "stdout",
     "output_type": "stream",
     "text": [
      "Enter the number:9\n",
      "Number 9  is perfect square of  3\n",
      "true\n"
     ]
    }
   ],
   "source": [
    "# find if a number is perfect square :\n",
    "num=int(input(\"Enter the number:\"))\n",
    "i=1\n",
    "while(i<=num):\n",
    "    if(num%i==0 and i*i==num):\n",
    "        str_1='true'\n",
    "        print(\"Number\",num,\" is perfect square of \",i)\n",
    "        break\n",
    "    else:\n",
    "        str_1='Not a perfect square '\n",
    "    i=i+1\n",
    "print(str_1)   "
   ]
  },
  {
   "cell_type": "code",
   "execution_count": 2,
   "id": "16eaf256",
   "metadata": {},
   "outputs": [
    {
     "name": "stdout",
     "output_type": "stream",
     "text": [
      "Enter the number:81\n",
      "the power number is: 3\n",
      "****The number is 3 raise to power  4\n",
      "true\n"
     ]
    }
   ],
   "source": [
    "#find that if number is power or not of another number \n",
    "num=int(input(\"Enter the number:\"))\n",
    "power_num=int(input(\"the power number is: \"))\n",
    "i=1\n",
    "while(i<=num):\n",
    "    if num==power_num**i:\n",
    "        str_1='true'\n",
    "        print(\"****The number is\",power_num,\"raise to power \",i)\n",
    "        break\n",
    "    else:\n",
    "        str_1='false, not a power of' ,power_num\n",
    "        \n",
    "    i=i+1    \n",
    "print(str_1)\n",
    "\n",
    "\n"
   ]
  },
  {
   "cell_type": "code",
   "execution_count": null,
   "id": "b09536d1",
   "metadata": {},
   "outputs": [],
   "source": []
  }
 ],
 "metadata": {
  "kernelspec": {
   "display_name": "Python 3 (ipykernel)",
   "language": "python",
   "name": "python3"
  },
  "language_info": {
   "codemirror_mode": {
    "name": "ipython",
    "version": 3
   },
   "file_extension": ".py",
   "mimetype": "text/x-python",
   "name": "python",
   "nbconvert_exporter": "python",
   "pygments_lexer": "ipython3",
   "version": "3.9.12"
  }
 },
 "nbformat": 4,
 "nbformat_minor": 5
}
