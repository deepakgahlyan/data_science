{
 "cells": [
  {
   "cell_type": "code",
   "execution_count": 7,
   "id": "8efe6685",
   "metadata": {},
   "outputs": [
    {
     "name": "stdout",
     "output_type": "stream",
     "text": [
      "10\n",
      "this distance in miles: 6.21371\n"
     ]
    }
   ],
   "source": [
    "distance_km= float(input())\n",
    "distance_miles= distance_km * 0.621371\n",
    "print('this distance in miles:',distance_miles)\n"
   ]
  },
  {
   "cell_type": "code",
   "execution_count": 10,
   "id": "446affe4",
   "metadata": {},
   "outputs": [
    {
     "name": "stdout",
     "output_type": "stream",
     "text": [
      "enter your number:-2\n",
      "the number is negative :\n"
     ]
    }
   ],
   "source": [
    "number=float(input(\"enter your number:\"))\n",
    "if number<0:\n",
    "    print(\"the number is negative :\")\n",
    "elif number==0:\n",
    "    print(\"number is 0\")\n",
    "else:\n",
    "    print(\"number is positive\")"
   ]
  },
  {
   "cell_type": "code",
   "execution_count": 11,
   "id": "0da78387",
   "metadata": {},
   "outputs": [
    {
     "name": "stdout",
     "output_type": "stream",
     "text": [
      "5\n",
      "6\n",
      "7\n",
      "8\n",
      "9\n",
      "10\n"
     ]
    }
   ],
   "source": [
    "#learning do while loop\n",
    "count=5\n",
    "while count<=10:\n",
    "    print(count)\n",
    "    count=count+1\n",
    "    "
   ]
  },
  {
   "cell_type": "code",
   "execution_count": 20,
   "id": "89f1a0bd",
   "metadata": {},
   "outputs": [
    {
     "name": "stdout",
     "output_type": "stream",
     "text": [
      "Enter the number whose table who want:14\n",
      "14 x 1  = 14\n",
      "14 x 2  = 28\n",
      "14 x 3  = 42\n",
      "14 x 4  = 56\n",
      "14 x 5  = 70\n",
      "14 x 6  = 84\n",
      "14 x 7  = 98\n",
      "14 x 8  = 112\n",
      "14 x 9  = 126\n",
      "14 x 10  = 140\n"
     ]
    }
   ],
   "source": [
    "# program for tables in math\n",
    "number=int(input(\"Enter the number whose table who want:\"))\n",
    "\n",
    "count= 1\n",
    "while count<=10:\n",
    "    product = count* number\n",
    "    print(number, \"x\", count ,\" =\", product)\n",
    "    count=count+1\n",
    "    \n",
    "    "
   ]
  },
  {
   "cell_type": "code",
   "execution_count": 25,
   "id": "a8bf9852",
   "metadata": {},
   "outputs": [
    {
     "name": "stdout",
     "output_type": "stream",
     "text": [
      "Enter the number whose table who want:14\n",
      "14 x 1  = 14\n",
      "14 x 2  = 28\n",
      "14 x 3  = 42\n",
      "14 x 4  = 56\n",
      "14 x 5  = 70\n",
      "14 x 6  = 84\n",
      "14 x 7  = 98\n",
      "14 x 8  = 112\n",
      "14 x 9  = 126\n",
      "14 x 10  = 140\n"
     ]
    }
   ],
   "source": [
    "# table using for loop \n",
    "\n",
    "number=int(input(\"Enter the number whose table who want:\"))\n",
    "\n",
    "for count in range(1,11):\n",
    "    product = count* number\n",
    "    print(number, \"x\", count ,\" =\", product)\n",
    "    "
   ]
  },
  {
   "cell_type": "code",
   "execution_count": 30,
   "id": "9e5f0465",
   "metadata": {},
   "outputs": [
    {
     "name": "stdout",
     "output_type": "stream",
     "text": [
      "python\n",
      "c++\n",
      "java\n",
      "sql\n"
     ]
    }
   ],
   "source": [
    "lang=[\"python\",\"c++\",\"java\",\"sql\"]\n",
    "for x in lang:\n",
    "    print(x)"
   ]
  },
  {
   "cell_type": "code",
   "execution_count": 1,
   "id": "f6bed347",
   "metadata": {},
   "outputs": [
    {
     "name": "stdout",
     "output_type": "stream",
     "text": [
      "5050\n"
     ]
    }
   ],
   "source": [
    "# sum of number 1 to 100\n",
    "#using while loop\n",
    "total=0\n",
    "count=0\n",
    "while count<=100:\n",
    "    total=total+count\n",
    "    count=count+1\n",
    "print(total)    "
   ]
  },
  {
   "cell_type": "code",
   "execution_count": 2,
   "id": "52ef3b76",
   "metadata": {},
   "outputs": [
    {
     "name": "stdout",
     "output_type": "stream",
     "text": [
      "5050\n"
     ]
    }
   ],
   "source": [
    "# sum of number 1 to 100\n",
    "# using for loop\n",
    "total=0\n",
    "for count in range(1,101):\n",
    "    total=total+count\n",
    "print(total) "
   ]
  },
  {
   "cell_type": "code",
   "execution_count": 32,
   "id": "6d4b9748",
   "metadata": {},
   "outputs": [
    {
     "name": "stdout",
     "output_type": "stream",
     "text": [
      "python\n",
      "c++\n"
     ]
    }
   ],
   "source": [
    "#break function\n",
    "lang=[\"python\",\"c++\",\"java\",\"sql\"]\n",
    "for x in lang:\n",
    "    if x==\"java\":\n",
    "        break\n",
    "    print(x)\n",
    "     \n",
    "    \n",
    "    "
   ]
  },
  {
   "cell_type": "code",
   "execution_count": 18,
   "id": "98a34088",
   "metadata": {},
   "outputs": [
    {
     "name": "stdout",
     "output_type": "stream",
     "text": [
      "python\n",
      "c++\n",
      "sql\n"
     ]
    }
   ],
   "source": [
    "#continue function\n",
    "lang=[\"python\",\"c++\",\"java\",\"sql\"]\n",
    "for x in lang:\n",
    "    if x==\"java\":\n",
    "        continue\n",
    "    \n",
    "    print(x)"
   ]
  },
  {
   "cell_type": "code",
   "execution_count": 54,
   "id": "d6539537",
   "metadata": {},
   "outputs": [
    {
     "name": "stdout",
     "output_type": "stream",
     "text": [
      "['ruby', 'python', 'kotlin', 'java']\n",
      "python\n",
      "['python', 'kotlin', 'java']\n",
      "['ruby', 'c++', 'kotlin', 'java']\n"
     ]
    }
   ],
   "source": [
    "# for list \n",
    "language=[\"ruby\",\"python\",\"kotlin\",\"java\"]\n",
    "print(language)\n",
    "# for print a specific character\n",
    "print(language[1])\n",
    "#for range of character\n",
    "print(language[1:4])\n",
    "#for changing a char\n",
    "language[1]=\"c++\"\n",
    "print(language)"
   ]
  },
  {
   "cell_type": "code",
   "execution_count": 122,
   "id": "3512e91b",
   "metadata": {},
   "outputs": [
    {
     "name": "stdout",
     "output_type": "stream",
     "text": [
      "('car', 1000)\n",
      "('truck', 500)\n",
      "('bus', 700)\n"
     ]
    }
   ],
   "source": [
    "# paired in list for single pair \n",
    "vehicle =['car','truck','bus']\n",
    "price =[1000,500,700]\n",
    "for i in range(0,3):\n",
    "    result= (vehicle[i],price[i])\n",
    "    \n",
    "    print(result)\n",
    "\n"
   ]
  },
  {
   "cell_type": "code",
   "execution_count": 87,
   "id": "c798eacd",
   "metadata": {},
   "outputs": [
    {
     "name": "stdout",
     "output_type": "stream",
     "text": [
      "[('amit', 22), ('amit', 44), ('amit', 12), ('amit', 28), ('surender', 22), ('surender', 44), ('surender', 12), ('surender', 28), ('bhadana', 22), ('bhadana', 44), ('bhadana', 12), ('bhadana', 28), ('london', 22), ('london', 44), ('london', 12), ('london', 28)]\n"
     ]
    }
   ],
   "source": [
    "#making pair in list\n",
    "list1=['amit','surender','bhadana','london']\n",
    "list2=[22,44,12,28]\n",
    "result = [(i, j) for i in list1 for j in list2 ]\n",
    "print(result)"
   ]
  },
  {
   "cell_type": "code",
   "execution_count": 83,
   "id": "0fa948b2",
   "metadata": {},
   "outputs": [
    {
     "name": "stdout",
     "output_type": "stream",
     "text": [
      "[(1, 5), (1, 8), (1, 7), (1, 1), (1, 3), (1, 6), (2, 5), (2, 8), (2, 7), (2, 1), (2, 3), (2, 6), (3, 5), (3, 8), (3, 7), (3, 1), (3, 3), (3, 6), (4, 5), (4, 8), (4, 7), (4, 1), (4, 3), (4, 6), (5, 5), (5, 8), (5, 7), (5, 1), (5, 3), (5, 6)]\n"
     ]
    }
   ],
   "source": [
    "# for making pair in python\n",
    "list_1 = [1, 2, 3, 4, 5]\n",
    "list_2 = [5, 8, 7, 1, 3, 6]\n",
    "\n",
    "\n",
    "result = [(i, j) for i in list_1 for j in list_2 ]\n",
    "print(result)"
   ]
  },
  {
   "cell_type": "code",
   "execution_count": 15,
   "id": "cd9e1e63",
   "metadata": {},
   "outputs": [
    {
     "name": "stdout",
     "output_type": "stream",
     "text": [
      "1 3 4 12 "
     ]
    }
   ],
   "source": [
    "# unpairing data in a list \n",
    "list_3 = [(1,5),(3,2),(4,8),(12,12)]\n",
    "for x in list_3:\n",
    "    list_4 =x[0]\n",
    "    \n",
    "    print(list_4,end=\" \") \n",
    "\n",
    "\n"
   ]
  },
  {
   "cell_type": "code",
   "execution_count": 9,
   "id": "d0a3860a",
   "metadata": {},
   "outputs": [
    {
     "name": "stdout",
     "output_type": "stream",
     "text": [
      "{'age': [22, 44, 12, 28], 'name': ['amit', 'surender', 'bhadana', 'sumit']}\n"
     ]
    }
   ],
   "source": [
    "list1=['amit','surender','bhadana','sumit']\n",
    "list2=[22,44,12,28]\n",
    "result ={\"age\":list2 ,\"name\":list1 }\n",
    "print(result)\n"
   ]
  },
  {
   "cell_type": "code",
   "execution_count": 36,
   "id": "ae1b2eaa",
   "metadata": {},
   "outputs": [],
   "source": [
    "list_new1=[10,15,20]\n",
    "list_new2=[25,12,27]\n",
    "for i in list_new1:\n",
    "    for j in list_new2:\n",
    "        if i==j:\n",
    "            result={i:j}\n",
    "            print(result)\n",
    "\n",
    "    \n",
    "        \n",
    "        "
   ]
  },
  {
   "cell_type": "code",
   "execution_count": 1,
   "id": "c3d2eb16",
   "metadata": {},
   "outputs": [
    {
     "name": "stdout",
     "output_type": "stream",
     "text": [
      "retep repip dekcip a kcap fo dellkcip sreppep "
     ]
    }
   ],
   "source": [
    "#input= peter piper picked a pack of picklled peppers\n",
    "# output =retep repip dekcip a kcap fo dellkcip sreppep \n",
    "str_1='peter piper picked a pack of picklled peppers'\n",
    "for i in str_1.split():\n",
    "    print(i[::-1], end= \" \")\n",
    "    "
   ]
  },
  {
   "cell_type": "code",
   "execution_count": 71,
   "id": "1939febe",
   "metadata": {},
   "outputs": [
    {
     "name": "stdout",
     "output_type": "stream",
     "text": [
      "peppers picklled of pack a picked piper peter\n"
     ]
    }
   ],
   "source": [
    "#input= peter piper picked a pack of picklled peppers\n",
    "# output =peppers picklled of pack a picked piper peter\n",
    "str_1='peter piper picked a pack of picklled peppers'\n",
    "str_1.split()\n",
    "print(' '.join(str_1.split()[::-1]))"
   ]
  },
  {
   "cell_type": "markdown",
   "id": "2c4cc9a1",
   "metadata": {},
   "source": [
    "a = 10 ** 3\n",
    "print(id(a))\n",
    "b = 10 ** 3\n",
    "print(id(b))ccxzzzzzzzzzzzzzzzzz,,,,,,mmm,\n"
   ]
  },
  {
   "cell_type": "code",
   "execution_count": 76,
   "id": "d0df5a90",
   "metadata": {},
   "outputs": [
    {
     "name": "stdout",
     "output_type": "stream",
     "text": [
      "0 = 10\n",
      "1 = 20\n",
      "2 = 30\n",
      "3 = 40\n"
     ]
    }
   ],
   "source": [
    "list1=[10,20,30,40]\n",
    "i=0\n",
    "for x in list1:\n",
    "    print(i,\"=\",x)\n",
    "    i=i+1\n",
    "        "
   ]
  },
  {
   "cell_type": "code",
   "execution_count": 3,
   "id": "07e98282",
   "metadata": {},
   "outputs": [
    {
     "name": "stdout",
     "output_type": "stream",
     "text": [
      "5\n",
      "0\n",
      "1\n",
      "2\n",
      "3\n",
      "4\n",
      "5\n"
     ]
    }
   ],
   "source": [
    "num=int(input())\n",
    "for i in range(num):\n",
    "    "
   ]
  },
  {
   "cell_type": "code",
   "execution_count": null,
   "id": "d1a67074",
   "metadata": {},
   "outputs": [],
   "source": []
  }
 ],
 "metadata": {
  "kernelspec": {
   "display_name": "Python 3 (ipykernel)",
   "language": "python",
   "name": "python3"
  },
  "language_info": {
   "codemirror_mode": {
    "name": "ipython",
    "version": 3
   },
   "file_extension": ".py",
   "mimetype": "text/x-python",
   "name": "python",
   "nbconvert_exporter": "python",
   "pygments_lexer": "ipython3",
   "version": "3.9.12"
  }
 },
 "nbformat": 4,
 "nbformat_minor": 5
}
